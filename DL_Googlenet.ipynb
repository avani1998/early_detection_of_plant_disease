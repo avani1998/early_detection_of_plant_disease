{
  "nbformat": 4,
  "nbformat_minor": 0,
  "metadata": {
    "colab": {
      "provenance": [],
      "machine_shape": "hm",
      "gpuType": "T4"
    },
    "kernelspec": {
      "name": "python3",
      "display_name": "Python 3"
    },
    "language_info": {
      "name": "python"
    },
    "gpuClass": "standard",
    "accelerator": "GPU",
    "widgets": {
      "application/vnd.jupyter.widget-state+json": {
        "1cd50c291ed84502a6485dec27b6bf03": {
          "model_module": "@jupyter-widgets/controls",
          "model_name": "HBoxModel",
          "model_module_version": "1.5.0",
          "state": {
            "_dom_classes": [],
            "_model_module": "@jupyter-widgets/controls",
            "_model_module_version": "1.5.0",
            "_model_name": "HBoxModel",
            "_view_count": null,
            "_view_module": "@jupyter-widgets/controls",
            "_view_module_version": "1.5.0",
            "_view_name": "HBoxView",
            "box_style": "",
            "children": [
              "IPY_MODEL_2ef8dbf09f034b3288f3b55c9b3b1b5d",
              "IPY_MODEL_7915a6da9ecb46e883afccbbdf36afe5",
              "IPY_MODEL_31db09daafb24b6b9259b08f0e8890db"
            ],
            "layout": "IPY_MODEL_7ce9344b08eb485aadb703b4080c4b0c"
          }
        },
        "2ef8dbf09f034b3288f3b55c9b3b1b5d": {
          "model_module": "@jupyter-widgets/controls",
          "model_name": "HTMLModel",
          "model_module_version": "1.5.0",
          "state": {
            "_dom_classes": [],
            "_model_module": "@jupyter-widgets/controls",
            "_model_module_version": "1.5.0",
            "_model_name": "HTMLModel",
            "_view_count": null,
            "_view_module": "@jupyter-widgets/controls",
            "_view_module_version": "1.5.0",
            "_view_name": "HTMLView",
            "description": "",
            "description_tooltip": null,
            "layout": "IPY_MODEL_071794d4d33f4d2c83ce2c4a36aa4c57",
            "placeholder": "​",
            "style": "IPY_MODEL_5c05c4d0646c4a4f9facb10e66a9ff51",
            "value": "Dl Completed...: 100%"
          }
        },
        "7915a6da9ecb46e883afccbbdf36afe5": {
          "model_module": "@jupyter-widgets/controls",
          "model_name": "FloatProgressModel",
          "model_module_version": "1.5.0",
          "state": {
            "_dom_classes": [],
            "_model_module": "@jupyter-widgets/controls",
            "_model_module_version": "1.5.0",
            "_model_name": "FloatProgressModel",
            "_view_count": null,
            "_view_module": "@jupyter-widgets/controls",
            "_view_module_version": "1.5.0",
            "_view_name": "ProgressView",
            "bar_style": "success",
            "description": "",
            "description_tooltip": null,
            "layout": "IPY_MODEL_0a3f5e01aa25494ebd73cc344f6e8c58",
            "max": 1,
            "min": 0,
            "orientation": "horizontal",
            "style": "IPY_MODEL_536b49810a264ecd9b508258f2c2dfec",
            "value": 1
          }
        },
        "31db09daafb24b6b9259b08f0e8890db": {
          "model_module": "@jupyter-widgets/controls",
          "model_name": "HTMLModel",
          "model_module_version": "1.5.0",
          "state": {
            "_dom_classes": [],
            "_model_module": "@jupyter-widgets/controls",
            "_model_module_version": "1.5.0",
            "_model_name": "HTMLModel",
            "_view_count": null,
            "_view_module": "@jupyter-widgets/controls",
            "_view_module_version": "1.5.0",
            "_view_name": "HTMLView",
            "description": "",
            "description_tooltip": null,
            "layout": "IPY_MODEL_73c50c7e2dee4b3889aba0c55d304e77",
            "placeholder": "​",
            "style": "IPY_MODEL_65b89a0a382b4ae4ab18ab937573ec2a",
            "value": " 1/1 [02:08&lt;00:00, 33.60s/ url]"
          }
        },
        "7ce9344b08eb485aadb703b4080c4b0c": {
          "model_module": "@jupyter-widgets/base",
          "model_name": "LayoutModel",
          "model_module_version": "1.2.0",
          "state": {
            "_model_module": "@jupyter-widgets/base",
            "_model_module_version": "1.2.0",
            "_model_name": "LayoutModel",
            "_view_count": null,
            "_view_module": "@jupyter-widgets/base",
            "_view_module_version": "1.2.0",
            "_view_name": "LayoutView",
            "align_content": null,
            "align_items": null,
            "align_self": null,
            "border": null,
            "bottom": null,
            "display": null,
            "flex": null,
            "flex_flow": null,
            "grid_area": null,
            "grid_auto_columns": null,
            "grid_auto_flow": null,
            "grid_auto_rows": null,
            "grid_column": null,
            "grid_gap": null,
            "grid_row": null,
            "grid_template_areas": null,
            "grid_template_columns": null,
            "grid_template_rows": null,
            "height": null,
            "justify_content": null,
            "justify_items": null,
            "left": null,
            "margin": null,
            "max_height": null,
            "max_width": null,
            "min_height": null,
            "min_width": null,
            "object_fit": null,
            "object_position": null,
            "order": null,
            "overflow": null,
            "overflow_x": null,
            "overflow_y": null,
            "padding": null,
            "right": null,
            "top": null,
            "visibility": null,
            "width": null
          }
        },
        "071794d4d33f4d2c83ce2c4a36aa4c57": {
          "model_module": "@jupyter-widgets/base",
          "model_name": "LayoutModel",
          "model_module_version": "1.2.0",
          "state": {
            "_model_module": "@jupyter-widgets/base",
            "_model_module_version": "1.2.0",
            "_model_name": "LayoutModel",
            "_view_count": null,
            "_view_module": "@jupyter-widgets/base",
            "_view_module_version": "1.2.0",
            "_view_name": "LayoutView",
            "align_content": null,
            "align_items": null,
            "align_self": null,
            "border": null,
            "bottom": null,
            "display": null,
            "flex": null,
            "flex_flow": null,
            "grid_area": null,
            "grid_auto_columns": null,
            "grid_auto_flow": null,
            "grid_auto_rows": null,
            "grid_column": null,
            "grid_gap": null,
            "grid_row": null,
            "grid_template_areas": null,
            "grid_template_columns": null,
            "grid_template_rows": null,
            "height": null,
            "justify_content": null,
            "justify_items": null,
            "left": null,
            "margin": null,
            "max_height": null,
            "max_width": null,
            "min_height": null,
            "min_width": null,
            "object_fit": null,
            "object_position": null,
            "order": null,
            "overflow": null,
            "overflow_x": null,
            "overflow_y": null,
            "padding": null,
            "right": null,
            "top": null,
            "visibility": null,
            "width": null
          }
        },
        "5c05c4d0646c4a4f9facb10e66a9ff51": {
          "model_module": "@jupyter-widgets/controls",
          "model_name": "DescriptionStyleModel",
          "model_module_version": "1.5.0",
          "state": {
            "_model_module": "@jupyter-widgets/controls",
            "_model_module_version": "1.5.0",
            "_model_name": "DescriptionStyleModel",
            "_view_count": null,
            "_view_module": "@jupyter-widgets/base",
            "_view_module_version": "1.2.0",
            "_view_name": "StyleView",
            "description_width": ""
          }
        },
        "0a3f5e01aa25494ebd73cc344f6e8c58": {
          "model_module": "@jupyter-widgets/base",
          "model_name": "LayoutModel",
          "model_module_version": "1.2.0",
          "state": {
            "_model_module": "@jupyter-widgets/base",
            "_model_module_version": "1.2.0",
            "_model_name": "LayoutModel",
            "_view_count": null,
            "_view_module": "@jupyter-widgets/base",
            "_view_module_version": "1.2.0",
            "_view_name": "LayoutView",
            "align_content": null,
            "align_items": null,
            "align_self": null,
            "border": null,
            "bottom": null,
            "display": null,
            "flex": null,
            "flex_flow": null,
            "grid_area": null,
            "grid_auto_columns": null,
            "grid_auto_flow": null,
            "grid_auto_rows": null,
            "grid_column": null,
            "grid_gap": null,
            "grid_row": null,
            "grid_template_areas": null,
            "grid_template_columns": null,
            "grid_template_rows": null,
            "height": null,
            "justify_content": null,
            "justify_items": null,
            "left": null,
            "margin": null,
            "max_height": null,
            "max_width": null,
            "min_height": null,
            "min_width": null,
            "object_fit": null,
            "object_position": null,
            "order": null,
            "overflow": null,
            "overflow_x": null,
            "overflow_y": null,
            "padding": null,
            "right": null,
            "top": null,
            "visibility": null,
            "width": "20px"
          }
        },
        "536b49810a264ecd9b508258f2c2dfec": {
          "model_module": "@jupyter-widgets/controls",
          "model_name": "ProgressStyleModel",
          "model_module_version": "1.5.0",
          "state": {
            "_model_module": "@jupyter-widgets/controls",
            "_model_module_version": "1.5.0",
            "_model_name": "ProgressStyleModel",
            "_view_count": null,
            "_view_module": "@jupyter-widgets/base",
            "_view_module_version": "1.2.0",
            "_view_name": "StyleView",
            "bar_color": null,
            "description_width": ""
          }
        },
        "73c50c7e2dee4b3889aba0c55d304e77": {
          "model_module": "@jupyter-widgets/base",
          "model_name": "LayoutModel",
          "model_module_version": "1.2.0",
          "state": {
            "_model_module": "@jupyter-widgets/base",
            "_model_module_version": "1.2.0",
            "_model_name": "LayoutModel",
            "_view_count": null,
            "_view_module": "@jupyter-widgets/base",
            "_view_module_version": "1.2.0",
            "_view_name": "LayoutView",
            "align_content": null,
            "align_items": null,
            "align_self": null,
            "border": null,
            "bottom": null,
            "display": null,
            "flex": null,
            "flex_flow": null,
            "grid_area": null,
            "grid_auto_columns": null,
            "grid_auto_flow": null,
            "grid_auto_rows": null,
            "grid_column": null,
            "grid_gap": null,
            "grid_row": null,
            "grid_template_areas": null,
            "grid_template_columns": null,
            "grid_template_rows": null,
            "height": null,
            "justify_content": null,
            "justify_items": null,
            "left": null,
            "margin": null,
            "max_height": null,
            "max_width": null,
            "min_height": null,
            "min_width": null,
            "object_fit": null,
            "object_position": null,
            "order": null,
            "overflow": null,
            "overflow_x": null,
            "overflow_y": null,
            "padding": null,
            "right": null,
            "top": null,
            "visibility": null,
            "width": null
          }
        },
        "65b89a0a382b4ae4ab18ab937573ec2a": {
          "model_module": "@jupyter-widgets/controls",
          "model_name": "DescriptionStyleModel",
          "model_module_version": "1.5.0",
          "state": {
            "_model_module": "@jupyter-widgets/controls",
            "_model_module_version": "1.5.0",
            "_model_name": "DescriptionStyleModel",
            "_view_count": null,
            "_view_module": "@jupyter-widgets/base",
            "_view_module_version": "1.2.0",
            "_view_name": "StyleView",
            "description_width": ""
          }
        },
        "65828df2a7f6429bbcbdd23f4158927a": {
          "model_module": "@jupyter-widgets/controls",
          "model_name": "HBoxModel",
          "model_module_version": "1.5.0",
          "state": {
            "_dom_classes": [],
            "_model_module": "@jupyter-widgets/controls",
            "_model_module_version": "1.5.0",
            "_model_name": "HBoxModel",
            "_view_count": null,
            "_view_module": "@jupyter-widgets/controls",
            "_view_module_version": "1.5.0",
            "_view_name": "HBoxView",
            "box_style": "",
            "children": [
              "IPY_MODEL_55b15f5026d74fc6bd17502b26ce3f3e",
              "IPY_MODEL_e83b98be4d6b47caad11a16e22c5e12c",
              "IPY_MODEL_f5f4a53df08240afadd0d3aa7ce77074"
            ],
            "layout": "IPY_MODEL_c9d5ee4cce0c4626a180c5dd473b235b"
          }
        },
        "55b15f5026d74fc6bd17502b26ce3f3e": {
          "model_module": "@jupyter-widgets/controls",
          "model_name": "HTMLModel",
          "model_module_version": "1.5.0",
          "state": {
            "_dom_classes": [],
            "_model_module": "@jupyter-widgets/controls",
            "_model_module_version": "1.5.0",
            "_model_name": "HTMLModel",
            "_view_count": null,
            "_view_module": "@jupyter-widgets/controls",
            "_view_module_version": "1.5.0",
            "_view_name": "HTMLView",
            "description": "",
            "description_tooltip": null,
            "layout": "IPY_MODEL_dd658e97a51d4c6a9f95fec83a4dd24c",
            "placeholder": "​",
            "style": "IPY_MODEL_86f89c10f62c42b4b3151bbc259fb577",
            "value": "Dl Size...: 100%"
          }
        },
        "e83b98be4d6b47caad11a16e22c5e12c": {
          "model_module": "@jupyter-widgets/controls",
          "model_name": "FloatProgressModel",
          "model_module_version": "1.5.0",
          "state": {
            "_dom_classes": [],
            "_model_module": "@jupyter-widgets/controls",
            "_model_module_version": "1.5.0",
            "_model_name": "FloatProgressModel",
            "_view_count": null,
            "_view_module": "@jupyter-widgets/controls",
            "_view_module_version": "1.5.0",
            "_view_name": "ProgressView",
            "bar_style": "success",
            "description": "",
            "description_tooltip": null,
            "layout": "IPY_MODEL_2221ab7eed3b44e3bbed732860d74215",
            "max": 1,
            "min": 0,
            "orientation": "horizontal",
            "style": "IPY_MODEL_a1f440c0a0b8417d8eb15a27154eafe5",
            "value": 1
          }
        },
        "f5f4a53df08240afadd0d3aa7ce77074": {
          "model_module": "@jupyter-widgets/controls",
          "model_name": "HTMLModel",
          "model_module_version": "1.5.0",
          "state": {
            "_dom_classes": [],
            "_model_module": "@jupyter-widgets/controls",
            "_model_module_version": "1.5.0",
            "_model_name": "HTMLModel",
            "_view_count": null,
            "_view_module": "@jupyter-widgets/controls",
            "_view_module_version": "1.5.0",
            "_view_name": "HTMLView",
            "description": "",
            "description_tooltip": null,
            "layout": "IPY_MODEL_c29bba5941c143c29eaf903306209c42",
            "placeholder": "​",
            "style": "IPY_MODEL_051b0fb6318c420c9f5327759eb76188",
            "value": " 827/827 [02:08&lt;00:00, 27.65 MiB/s]"
          }
        },
        "c9d5ee4cce0c4626a180c5dd473b235b": {
          "model_module": "@jupyter-widgets/base",
          "model_name": "LayoutModel",
          "model_module_version": "1.2.0",
          "state": {
            "_model_module": "@jupyter-widgets/base",
            "_model_module_version": "1.2.0",
            "_model_name": "LayoutModel",
            "_view_count": null,
            "_view_module": "@jupyter-widgets/base",
            "_view_module_version": "1.2.0",
            "_view_name": "LayoutView",
            "align_content": null,
            "align_items": null,
            "align_self": null,
            "border": null,
            "bottom": null,
            "display": null,
            "flex": null,
            "flex_flow": null,
            "grid_area": null,
            "grid_auto_columns": null,
            "grid_auto_flow": null,
            "grid_auto_rows": null,
            "grid_column": null,
            "grid_gap": null,
            "grid_row": null,
            "grid_template_areas": null,
            "grid_template_columns": null,
            "grid_template_rows": null,
            "height": null,
            "justify_content": null,
            "justify_items": null,
            "left": null,
            "margin": null,
            "max_height": null,
            "max_width": null,
            "min_height": null,
            "min_width": null,
            "object_fit": null,
            "object_position": null,
            "order": null,
            "overflow": null,
            "overflow_x": null,
            "overflow_y": null,
            "padding": null,
            "right": null,
            "top": null,
            "visibility": null,
            "width": null
          }
        },
        "dd658e97a51d4c6a9f95fec83a4dd24c": {
          "model_module": "@jupyter-widgets/base",
          "model_name": "LayoutModel",
          "model_module_version": "1.2.0",
          "state": {
            "_model_module": "@jupyter-widgets/base",
            "_model_module_version": "1.2.0",
            "_model_name": "LayoutModel",
            "_view_count": null,
            "_view_module": "@jupyter-widgets/base",
            "_view_module_version": "1.2.0",
            "_view_name": "LayoutView",
            "align_content": null,
            "align_items": null,
            "align_self": null,
            "border": null,
            "bottom": null,
            "display": null,
            "flex": null,
            "flex_flow": null,
            "grid_area": null,
            "grid_auto_columns": null,
            "grid_auto_flow": null,
            "grid_auto_rows": null,
            "grid_column": null,
            "grid_gap": null,
            "grid_row": null,
            "grid_template_areas": null,
            "grid_template_columns": null,
            "grid_template_rows": null,
            "height": null,
            "justify_content": null,
            "justify_items": null,
            "left": null,
            "margin": null,
            "max_height": null,
            "max_width": null,
            "min_height": null,
            "min_width": null,
            "object_fit": null,
            "object_position": null,
            "order": null,
            "overflow": null,
            "overflow_x": null,
            "overflow_y": null,
            "padding": null,
            "right": null,
            "top": null,
            "visibility": null,
            "width": null
          }
        },
        "86f89c10f62c42b4b3151bbc259fb577": {
          "model_module": "@jupyter-widgets/controls",
          "model_name": "DescriptionStyleModel",
          "model_module_version": "1.5.0",
          "state": {
            "_model_module": "@jupyter-widgets/controls",
            "_model_module_version": "1.5.0",
            "_model_name": "DescriptionStyleModel",
            "_view_count": null,
            "_view_module": "@jupyter-widgets/base",
            "_view_module_version": "1.2.0",
            "_view_name": "StyleView",
            "description_width": ""
          }
        },
        "2221ab7eed3b44e3bbed732860d74215": {
          "model_module": "@jupyter-widgets/base",
          "model_name": "LayoutModel",
          "model_module_version": "1.2.0",
          "state": {
            "_model_module": "@jupyter-widgets/base",
            "_model_module_version": "1.2.0",
            "_model_name": "LayoutModel",
            "_view_count": null,
            "_view_module": "@jupyter-widgets/base",
            "_view_module_version": "1.2.0",
            "_view_name": "LayoutView",
            "align_content": null,
            "align_items": null,
            "align_self": null,
            "border": null,
            "bottom": null,
            "display": null,
            "flex": null,
            "flex_flow": null,
            "grid_area": null,
            "grid_auto_columns": null,
            "grid_auto_flow": null,
            "grid_auto_rows": null,
            "grid_column": null,
            "grid_gap": null,
            "grid_row": null,
            "grid_template_areas": null,
            "grid_template_columns": null,
            "grid_template_rows": null,
            "height": null,
            "justify_content": null,
            "justify_items": null,
            "left": null,
            "margin": null,
            "max_height": null,
            "max_width": null,
            "min_height": null,
            "min_width": null,
            "object_fit": null,
            "object_position": null,
            "order": null,
            "overflow": null,
            "overflow_x": null,
            "overflow_y": null,
            "padding": null,
            "right": null,
            "top": null,
            "visibility": null,
            "width": "20px"
          }
        },
        "a1f440c0a0b8417d8eb15a27154eafe5": {
          "model_module": "@jupyter-widgets/controls",
          "model_name": "ProgressStyleModel",
          "model_module_version": "1.5.0",
          "state": {
            "_model_module": "@jupyter-widgets/controls",
            "_model_module_version": "1.5.0",
            "_model_name": "ProgressStyleModel",
            "_view_count": null,
            "_view_module": "@jupyter-widgets/base",
            "_view_module_version": "1.2.0",
            "_view_name": "StyleView",
            "bar_color": null,
            "description_width": ""
          }
        },
        "c29bba5941c143c29eaf903306209c42": {
          "model_module": "@jupyter-widgets/base",
          "model_name": "LayoutModel",
          "model_module_version": "1.2.0",
          "state": {
            "_model_module": "@jupyter-widgets/base",
            "_model_module_version": "1.2.0",
            "_model_name": "LayoutModel",
            "_view_count": null,
            "_view_module": "@jupyter-widgets/base",
            "_view_module_version": "1.2.0",
            "_view_name": "LayoutView",
            "align_content": null,
            "align_items": null,
            "align_self": null,
            "border": null,
            "bottom": null,
            "display": null,
            "flex": null,
            "flex_flow": null,
            "grid_area": null,
            "grid_auto_columns": null,
            "grid_auto_flow": null,
            "grid_auto_rows": null,
            "grid_column": null,
            "grid_gap": null,
            "grid_row": null,
            "grid_template_areas": null,
            "grid_template_columns": null,
            "grid_template_rows": null,
            "height": null,
            "justify_content": null,
            "justify_items": null,
            "left": null,
            "margin": null,
            "max_height": null,
            "max_width": null,
            "min_height": null,
            "min_width": null,
            "object_fit": null,
            "object_position": null,
            "order": null,
            "overflow": null,
            "overflow_x": null,
            "overflow_y": null,
            "padding": null,
            "right": null,
            "top": null,
            "visibility": null,
            "width": null
          }
        },
        "051b0fb6318c420c9f5327759eb76188": {
          "model_module": "@jupyter-widgets/controls",
          "model_name": "DescriptionStyleModel",
          "model_module_version": "1.5.0",
          "state": {
            "_model_module": "@jupyter-widgets/controls",
            "_model_module_version": "1.5.0",
            "_model_name": "DescriptionStyleModel",
            "_view_count": null,
            "_view_module": "@jupyter-widgets/base",
            "_view_module_version": "1.2.0",
            "_view_name": "StyleView",
            "description_width": ""
          }
        },
        "f5262fd8e08549cd9dbf8027477f35a7": {
          "model_module": "@jupyter-widgets/controls",
          "model_name": "HBoxModel",
          "model_module_version": "1.5.0",
          "state": {
            "_dom_classes": [],
            "_model_module": "@jupyter-widgets/controls",
            "_model_module_version": "1.5.0",
            "_model_name": "HBoxModel",
            "_view_count": null,
            "_view_module": "@jupyter-widgets/controls",
            "_view_module_version": "1.5.0",
            "_view_name": "HBoxView",
            "box_style": "",
            "children": [
              "IPY_MODEL_79044e0fba124afaab558f0f4db51262",
              "IPY_MODEL_5b94ecb2919a4600add0512af2b65a6a",
              "IPY_MODEL_f4915073c1ed437a89fb83be686506e5"
            ],
            "layout": "IPY_MODEL_a2422b90a7ee4b7b84b8d3c62e00844f"
          }
        },
        "79044e0fba124afaab558f0f4db51262": {
          "model_module": "@jupyter-widgets/controls",
          "model_name": "HTMLModel",
          "model_module_version": "1.5.0",
          "state": {
            "_dom_classes": [],
            "_model_module": "@jupyter-widgets/controls",
            "_model_module_version": "1.5.0",
            "_model_name": "HTMLModel",
            "_view_count": null,
            "_view_module": "@jupyter-widgets/controls",
            "_view_module_version": "1.5.0",
            "_view_name": "HTMLView",
            "description": "",
            "description_tooltip": null,
            "layout": "IPY_MODEL_c9ccea47e15a46bb9ab830db46eeac52",
            "placeholder": "​",
            "style": "IPY_MODEL_bb054a91ae394f7cb1a3f42fefe1e7c1",
            "value": "Extraction completed...:  99%"
          }
        },
        "5b94ecb2919a4600add0512af2b65a6a": {
          "model_module": "@jupyter-widgets/controls",
          "model_name": "FloatProgressModel",
          "model_module_version": "1.5.0",
          "state": {
            "_dom_classes": [],
            "_model_module": "@jupyter-widgets/controls",
            "_model_module_version": "1.5.0",
            "_model_name": "FloatProgressModel",
            "_view_count": null,
            "_view_module": "@jupyter-widgets/controls",
            "_view_module_version": "1.5.0",
            "_view_name": "ProgressView",
            "bar_style": "success",
            "description": "",
            "description_tooltip": null,
            "layout": "IPY_MODEL_1dcbe32773e042319bd042629e602243",
            "max": 1,
            "min": 0,
            "orientation": "horizontal",
            "style": "IPY_MODEL_339186d0add143d6b9d073af1e696ab3",
            "value": 1
          }
        },
        "f4915073c1ed437a89fb83be686506e5": {
          "model_module": "@jupyter-widgets/controls",
          "model_name": "HTMLModel",
          "model_module_version": "1.5.0",
          "state": {
            "_dom_classes": [],
            "_model_module": "@jupyter-widgets/controls",
            "_model_module_version": "1.5.0",
            "_model_name": "HTMLModel",
            "_view_count": null,
            "_view_module": "@jupyter-widgets/controls",
            "_view_module_version": "1.5.0",
            "_view_name": "HTMLView",
            "description": "",
            "description_tooltip": null,
            "layout": "IPY_MODEL_0692b4536a044ee08a354f3b3899fcd0",
            "placeholder": "​",
            "style": "IPY_MODEL_d022a0ace0734586aabce354c791bddb",
            "value": " 55448/55448 [02:09&lt;00:00, 1704.02 file/s]"
          }
        },
        "a2422b90a7ee4b7b84b8d3c62e00844f": {
          "model_module": "@jupyter-widgets/base",
          "model_name": "LayoutModel",
          "model_module_version": "1.2.0",
          "state": {
            "_model_module": "@jupyter-widgets/base",
            "_model_module_version": "1.2.0",
            "_model_name": "LayoutModel",
            "_view_count": null,
            "_view_module": "@jupyter-widgets/base",
            "_view_module_version": "1.2.0",
            "_view_name": "LayoutView",
            "align_content": null,
            "align_items": null,
            "align_self": null,
            "border": null,
            "bottom": null,
            "display": null,
            "flex": null,
            "flex_flow": null,
            "grid_area": null,
            "grid_auto_columns": null,
            "grid_auto_flow": null,
            "grid_auto_rows": null,
            "grid_column": null,
            "grid_gap": null,
            "grid_row": null,
            "grid_template_areas": null,
            "grid_template_columns": null,
            "grid_template_rows": null,
            "height": null,
            "justify_content": null,
            "justify_items": null,
            "left": null,
            "margin": null,
            "max_height": null,
            "max_width": null,
            "min_height": null,
            "min_width": null,
            "object_fit": null,
            "object_position": null,
            "order": null,
            "overflow": null,
            "overflow_x": null,
            "overflow_y": null,
            "padding": null,
            "right": null,
            "top": null,
            "visibility": null,
            "width": null
          }
        },
        "c9ccea47e15a46bb9ab830db46eeac52": {
          "model_module": "@jupyter-widgets/base",
          "model_name": "LayoutModel",
          "model_module_version": "1.2.0",
          "state": {
            "_model_module": "@jupyter-widgets/base",
            "_model_module_version": "1.2.0",
            "_model_name": "LayoutModel",
            "_view_count": null,
            "_view_module": "@jupyter-widgets/base",
            "_view_module_version": "1.2.0",
            "_view_name": "LayoutView",
            "align_content": null,
            "align_items": null,
            "align_self": null,
            "border": null,
            "bottom": null,
            "display": null,
            "flex": null,
            "flex_flow": null,
            "grid_area": null,
            "grid_auto_columns": null,
            "grid_auto_flow": null,
            "grid_auto_rows": null,
            "grid_column": null,
            "grid_gap": null,
            "grid_row": null,
            "grid_template_areas": null,
            "grid_template_columns": null,
            "grid_template_rows": null,
            "height": null,
            "justify_content": null,
            "justify_items": null,
            "left": null,
            "margin": null,
            "max_height": null,
            "max_width": null,
            "min_height": null,
            "min_width": null,
            "object_fit": null,
            "object_position": null,
            "order": null,
            "overflow": null,
            "overflow_x": null,
            "overflow_y": null,
            "padding": null,
            "right": null,
            "top": null,
            "visibility": null,
            "width": null
          }
        },
        "bb054a91ae394f7cb1a3f42fefe1e7c1": {
          "model_module": "@jupyter-widgets/controls",
          "model_name": "DescriptionStyleModel",
          "model_module_version": "1.5.0",
          "state": {
            "_model_module": "@jupyter-widgets/controls",
            "_model_module_version": "1.5.0",
            "_model_name": "DescriptionStyleModel",
            "_view_count": null,
            "_view_module": "@jupyter-widgets/base",
            "_view_module_version": "1.2.0",
            "_view_name": "StyleView",
            "description_width": ""
          }
        },
        "1dcbe32773e042319bd042629e602243": {
          "model_module": "@jupyter-widgets/base",
          "model_name": "LayoutModel",
          "model_module_version": "1.2.0",
          "state": {
            "_model_module": "@jupyter-widgets/base",
            "_model_module_version": "1.2.0",
            "_model_name": "LayoutModel",
            "_view_count": null,
            "_view_module": "@jupyter-widgets/base",
            "_view_module_version": "1.2.0",
            "_view_name": "LayoutView",
            "align_content": null,
            "align_items": null,
            "align_self": null,
            "border": null,
            "bottom": null,
            "display": null,
            "flex": null,
            "flex_flow": null,
            "grid_area": null,
            "grid_auto_columns": null,
            "grid_auto_flow": null,
            "grid_auto_rows": null,
            "grid_column": null,
            "grid_gap": null,
            "grid_row": null,
            "grid_template_areas": null,
            "grid_template_columns": null,
            "grid_template_rows": null,
            "height": null,
            "justify_content": null,
            "justify_items": null,
            "left": null,
            "margin": null,
            "max_height": null,
            "max_width": null,
            "min_height": null,
            "min_width": null,
            "object_fit": null,
            "object_position": null,
            "order": null,
            "overflow": null,
            "overflow_x": null,
            "overflow_y": null,
            "padding": null,
            "right": null,
            "top": null,
            "visibility": null,
            "width": "20px"
          }
        },
        "339186d0add143d6b9d073af1e696ab3": {
          "model_module": "@jupyter-widgets/controls",
          "model_name": "ProgressStyleModel",
          "model_module_version": "1.5.0",
          "state": {
            "_model_module": "@jupyter-widgets/controls",
            "_model_module_version": "1.5.0",
            "_model_name": "ProgressStyleModel",
            "_view_count": null,
            "_view_module": "@jupyter-widgets/base",
            "_view_module_version": "1.2.0",
            "_view_name": "StyleView",
            "bar_color": null,
            "description_width": ""
          }
        },
        "0692b4536a044ee08a354f3b3899fcd0": {
          "model_module": "@jupyter-widgets/base",
          "model_name": "LayoutModel",
          "model_module_version": "1.2.0",
          "state": {
            "_model_module": "@jupyter-widgets/base",
            "_model_module_version": "1.2.0",
            "_model_name": "LayoutModel",
            "_view_count": null,
            "_view_module": "@jupyter-widgets/base",
            "_view_module_version": "1.2.0",
            "_view_name": "LayoutView",
            "align_content": null,
            "align_items": null,
            "align_self": null,
            "border": null,
            "bottom": null,
            "display": null,
            "flex": null,
            "flex_flow": null,
            "grid_area": null,
            "grid_auto_columns": null,
            "grid_auto_flow": null,
            "grid_auto_rows": null,
            "grid_column": null,
            "grid_gap": null,
            "grid_row": null,
            "grid_template_areas": null,
            "grid_template_columns": null,
            "grid_template_rows": null,
            "height": null,
            "justify_content": null,
            "justify_items": null,
            "left": null,
            "margin": null,
            "max_height": null,
            "max_width": null,
            "min_height": null,
            "min_width": null,
            "object_fit": null,
            "object_position": null,
            "order": null,
            "overflow": null,
            "overflow_x": null,
            "overflow_y": null,
            "padding": null,
            "right": null,
            "top": null,
            "visibility": null,
            "width": null
          }
        },
        "d022a0ace0734586aabce354c791bddb": {
          "model_module": "@jupyter-widgets/controls",
          "model_name": "DescriptionStyleModel",
          "model_module_version": "1.5.0",
          "state": {
            "_model_module": "@jupyter-widgets/controls",
            "_model_module_version": "1.5.0",
            "_model_name": "DescriptionStyleModel",
            "_view_count": null,
            "_view_module": "@jupyter-widgets/base",
            "_view_module_version": "1.2.0",
            "_view_name": "StyleView",
            "description_width": ""
          }
        },
        "ab90dff0b0ae479f8caafab7fb2d881e": {
          "model_module": "@jupyter-widgets/controls",
          "model_name": "HBoxModel",
          "model_module_version": "1.5.0",
          "state": {
            "_dom_classes": [],
            "_model_module": "@jupyter-widgets/controls",
            "_model_module_version": "1.5.0",
            "_model_name": "HBoxModel",
            "_view_count": null,
            "_view_module": "@jupyter-widgets/controls",
            "_view_module_version": "1.5.0",
            "_view_name": "HBoxView",
            "box_style": "",
            "children": [
              "IPY_MODEL_3bf3f4baa4d946bcb4950264539fd926",
              "IPY_MODEL_f31faecda8354d41978083972bef682b",
              "IPY_MODEL_1218dcb467464eec953170091c041200"
            ],
            "layout": "IPY_MODEL_e10161f8b99c48caab8e059c1f24fcef"
          }
        },
        "3bf3f4baa4d946bcb4950264539fd926": {
          "model_module": "@jupyter-widgets/controls",
          "model_name": "HTMLModel",
          "model_module_version": "1.5.0",
          "state": {
            "_dom_classes": [],
            "_model_module": "@jupyter-widgets/controls",
            "_model_module_version": "1.5.0",
            "_model_name": "HTMLModel",
            "_view_count": null,
            "_view_module": "@jupyter-widgets/controls",
            "_view_module_version": "1.5.0",
            "_view_name": "HTMLView",
            "description": "",
            "description_tooltip": null,
            "layout": "IPY_MODEL_32330cf8352d4f4da5f44fb125614ff1",
            "placeholder": "​",
            "style": "IPY_MODEL_aab1d1882e39490298ac5c6ebab8213e",
            "value": "Generating splits...: 100%"
          }
        },
        "f31faecda8354d41978083972bef682b": {
          "model_module": "@jupyter-widgets/controls",
          "model_name": "FloatProgressModel",
          "model_module_version": "1.5.0",
          "state": {
            "_dom_classes": [],
            "_model_module": "@jupyter-widgets/controls",
            "_model_module_version": "1.5.0",
            "_model_name": "FloatProgressModel",
            "_view_count": null,
            "_view_module": "@jupyter-widgets/controls",
            "_view_module_version": "1.5.0",
            "_view_name": "ProgressView",
            "bar_style": "",
            "description": "",
            "description_tooltip": null,
            "layout": "IPY_MODEL_f69dfacb2c394886a8e97de0412a8bac",
            "max": 1,
            "min": 0,
            "orientation": "horizontal",
            "style": "IPY_MODEL_1ea7ff7d6d8642f29d5e1c67783de0a1",
            "value": 1
          }
        },
        "1218dcb467464eec953170091c041200": {
          "model_module": "@jupyter-widgets/controls",
          "model_name": "HTMLModel",
          "model_module_version": "1.5.0",
          "state": {
            "_dom_classes": [],
            "_model_module": "@jupyter-widgets/controls",
            "_model_module_version": "1.5.0",
            "_model_name": "HTMLModel",
            "_view_count": null,
            "_view_module": "@jupyter-widgets/controls",
            "_view_module_version": "1.5.0",
            "_view_name": "HTMLView",
            "description": "",
            "description_tooltip": null,
            "layout": "IPY_MODEL_2ef53eed2c84422787b66edf1edbd16c",
            "placeholder": "​",
            "style": "IPY_MODEL_95212eccf64c43d3acfff8901126aaa5",
            "value": " 1/1 [00:12&lt;00:00, 12.41s/ splits]"
          }
        },
        "e10161f8b99c48caab8e059c1f24fcef": {
          "model_module": "@jupyter-widgets/base",
          "model_name": "LayoutModel",
          "model_module_version": "1.2.0",
          "state": {
            "_model_module": "@jupyter-widgets/base",
            "_model_module_version": "1.2.0",
            "_model_name": "LayoutModel",
            "_view_count": null,
            "_view_module": "@jupyter-widgets/base",
            "_view_module_version": "1.2.0",
            "_view_name": "LayoutView",
            "align_content": null,
            "align_items": null,
            "align_self": null,
            "border": null,
            "bottom": null,
            "display": null,
            "flex": null,
            "flex_flow": null,
            "grid_area": null,
            "grid_auto_columns": null,
            "grid_auto_flow": null,
            "grid_auto_rows": null,
            "grid_column": null,
            "grid_gap": null,
            "grid_row": null,
            "grid_template_areas": null,
            "grid_template_columns": null,
            "grid_template_rows": null,
            "height": null,
            "justify_content": null,
            "justify_items": null,
            "left": null,
            "margin": null,
            "max_height": null,
            "max_width": null,
            "min_height": null,
            "min_width": null,
            "object_fit": null,
            "object_position": null,
            "order": null,
            "overflow": null,
            "overflow_x": null,
            "overflow_y": null,
            "padding": null,
            "right": null,
            "top": null,
            "visibility": "hidden",
            "width": null
          }
        },
        "32330cf8352d4f4da5f44fb125614ff1": {
          "model_module": "@jupyter-widgets/base",
          "model_name": "LayoutModel",
          "model_module_version": "1.2.0",
          "state": {
            "_model_module": "@jupyter-widgets/base",
            "_model_module_version": "1.2.0",
            "_model_name": "LayoutModel",
            "_view_count": null,
            "_view_module": "@jupyter-widgets/base",
            "_view_module_version": "1.2.0",
            "_view_name": "LayoutView",
            "align_content": null,
            "align_items": null,
            "align_self": null,
            "border": null,
            "bottom": null,
            "display": null,
            "flex": null,
            "flex_flow": null,
            "grid_area": null,
            "grid_auto_columns": null,
            "grid_auto_flow": null,
            "grid_auto_rows": null,
            "grid_column": null,
            "grid_gap": null,
            "grid_row": null,
            "grid_template_areas": null,
            "grid_template_columns": null,
            "grid_template_rows": null,
            "height": null,
            "justify_content": null,
            "justify_items": null,
            "left": null,
            "margin": null,
            "max_height": null,
            "max_width": null,
            "min_height": null,
            "min_width": null,
            "object_fit": null,
            "object_position": null,
            "order": null,
            "overflow": null,
            "overflow_x": null,
            "overflow_y": null,
            "padding": null,
            "right": null,
            "top": null,
            "visibility": null,
            "width": null
          }
        },
        "aab1d1882e39490298ac5c6ebab8213e": {
          "model_module": "@jupyter-widgets/controls",
          "model_name": "DescriptionStyleModel",
          "model_module_version": "1.5.0",
          "state": {
            "_model_module": "@jupyter-widgets/controls",
            "_model_module_version": "1.5.0",
            "_model_name": "DescriptionStyleModel",
            "_view_count": null,
            "_view_module": "@jupyter-widgets/base",
            "_view_module_version": "1.2.0",
            "_view_name": "StyleView",
            "description_width": ""
          }
        },
        "f69dfacb2c394886a8e97de0412a8bac": {
          "model_module": "@jupyter-widgets/base",
          "model_name": "LayoutModel",
          "model_module_version": "1.2.0",
          "state": {
            "_model_module": "@jupyter-widgets/base",
            "_model_module_version": "1.2.0",
            "_model_name": "LayoutModel",
            "_view_count": null,
            "_view_module": "@jupyter-widgets/base",
            "_view_module_version": "1.2.0",
            "_view_name": "LayoutView",
            "align_content": null,
            "align_items": null,
            "align_self": null,
            "border": null,
            "bottom": null,
            "display": null,
            "flex": null,
            "flex_flow": null,
            "grid_area": null,
            "grid_auto_columns": null,
            "grid_auto_flow": null,
            "grid_auto_rows": null,
            "grid_column": null,
            "grid_gap": null,
            "grid_row": null,
            "grid_template_areas": null,
            "grid_template_columns": null,
            "grid_template_rows": null,
            "height": null,
            "justify_content": null,
            "justify_items": null,
            "left": null,
            "margin": null,
            "max_height": null,
            "max_width": null,
            "min_height": null,
            "min_width": null,
            "object_fit": null,
            "object_position": null,
            "order": null,
            "overflow": null,
            "overflow_x": null,
            "overflow_y": null,
            "padding": null,
            "right": null,
            "top": null,
            "visibility": null,
            "width": null
          }
        },
        "1ea7ff7d6d8642f29d5e1c67783de0a1": {
          "model_module": "@jupyter-widgets/controls",
          "model_name": "ProgressStyleModel",
          "model_module_version": "1.5.0",
          "state": {
            "_model_module": "@jupyter-widgets/controls",
            "_model_module_version": "1.5.0",
            "_model_name": "ProgressStyleModel",
            "_view_count": null,
            "_view_module": "@jupyter-widgets/base",
            "_view_module_version": "1.2.0",
            "_view_name": "StyleView",
            "bar_color": null,
            "description_width": ""
          }
        },
        "2ef53eed2c84422787b66edf1edbd16c": {
          "model_module": "@jupyter-widgets/base",
          "model_name": "LayoutModel",
          "model_module_version": "1.2.0",
          "state": {
            "_model_module": "@jupyter-widgets/base",
            "_model_module_version": "1.2.0",
            "_model_name": "LayoutModel",
            "_view_count": null,
            "_view_module": "@jupyter-widgets/base",
            "_view_module_version": "1.2.0",
            "_view_name": "LayoutView",
            "align_content": null,
            "align_items": null,
            "align_self": null,
            "border": null,
            "bottom": null,
            "display": null,
            "flex": null,
            "flex_flow": null,
            "grid_area": null,
            "grid_auto_columns": null,
            "grid_auto_flow": null,
            "grid_auto_rows": null,
            "grid_column": null,
            "grid_gap": null,
            "grid_row": null,
            "grid_template_areas": null,
            "grid_template_columns": null,
            "grid_template_rows": null,
            "height": null,
            "justify_content": null,
            "justify_items": null,
            "left": null,
            "margin": null,
            "max_height": null,
            "max_width": null,
            "min_height": null,
            "min_width": null,
            "object_fit": null,
            "object_position": null,
            "order": null,
            "overflow": null,
            "overflow_x": null,
            "overflow_y": null,
            "padding": null,
            "right": null,
            "top": null,
            "visibility": null,
            "width": null
          }
        },
        "95212eccf64c43d3acfff8901126aaa5": {
          "model_module": "@jupyter-widgets/controls",
          "model_name": "DescriptionStyleModel",
          "model_module_version": "1.5.0",
          "state": {
            "_model_module": "@jupyter-widgets/controls",
            "_model_module_version": "1.5.0",
            "_model_name": "DescriptionStyleModel",
            "_view_count": null,
            "_view_module": "@jupyter-widgets/base",
            "_view_module_version": "1.2.0",
            "_view_name": "StyleView",
            "description_width": ""
          }
        },
        "43c64a97be1447a088cfa1806458cd69": {
          "model_module": "@jupyter-widgets/controls",
          "model_name": "HBoxModel",
          "model_module_version": "1.5.0",
          "state": {
            "_dom_classes": [],
            "_model_module": "@jupyter-widgets/controls",
            "_model_module_version": "1.5.0",
            "_model_name": "HBoxModel",
            "_view_count": null,
            "_view_module": "@jupyter-widgets/controls",
            "_view_module_version": "1.5.0",
            "_view_name": "HBoxView",
            "box_style": "",
            "children": [
              "IPY_MODEL_16aa38532fe0447da2a87296907f40c4",
              "IPY_MODEL_03b239d45ee14e9d93493b5597aff053",
              "IPY_MODEL_e7dfa2592dd04d48b16e15e4f5fd372e"
            ],
            "layout": "IPY_MODEL_e4256b9e1e2546d389ebad87c27249a9"
          }
        },
        "16aa38532fe0447da2a87296907f40c4": {
          "model_module": "@jupyter-widgets/controls",
          "model_name": "HTMLModel",
          "model_module_version": "1.5.0",
          "state": {
            "_dom_classes": [],
            "_model_module": "@jupyter-widgets/controls",
            "_model_module_version": "1.5.0",
            "_model_name": "HTMLModel",
            "_view_count": null,
            "_view_module": "@jupyter-widgets/controls",
            "_view_module_version": "1.5.0",
            "_view_name": "HTMLView",
            "description": "",
            "description_tooltip": null,
            "layout": "IPY_MODEL_c736c038c5a14d6292a87ce9a224b54a",
            "placeholder": "​",
            "style": "IPY_MODEL_349b4f0c449e49f5ac993f24928ac129",
            "value": "Generating train examples...: 100%"
          }
        },
        "03b239d45ee14e9d93493b5597aff053": {
          "model_module": "@jupyter-widgets/controls",
          "model_name": "FloatProgressModel",
          "model_module_version": "1.5.0",
          "state": {
            "_dom_classes": [],
            "_model_module": "@jupyter-widgets/controls",
            "_model_module_version": "1.5.0",
            "_model_name": "FloatProgressModel",
            "_view_count": null,
            "_view_module": "@jupyter-widgets/controls",
            "_view_module_version": "1.5.0",
            "_view_name": "ProgressView",
            "bar_style": "",
            "description": "",
            "description_tooltip": null,
            "layout": "IPY_MODEL_5ade75b10b6f42a9bdfac1cae8c6333d",
            "max": 54303,
            "min": 0,
            "orientation": "horizontal",
            "style": "IPY_MODEL_a7ada38a167b4416b92e8d1383148ec9",
            "value": 54303
          }
        },
        "e7dfa2592dd04d48b16e15e4f5fd372e": {
          "model_module": "@jupyter-widgets/controls",
          "model_name": "HTMLModel",
          "model_module_version": "1.5.0",
          "state": {
            "_dom_classes": [],
            "_model_module": "@jupyter-widgets/controls",
            "_model_module_version": "1.5.0",
            "_model_name": "HTMLModel",
            "_view_count": null,
            "_view_module": "@jupyter-widgets/controls",
            "_view_module_version": "1.5.0",
            "_view_name": "HTMLView",
            "description": "",
            "description_tooltip": null,
            "layout": "IPY_MODEL_fb9aaccc706b401480b4551acf8dc82a",
            "placeholder": "​",
            "style": "IPY_MODEL_27690e346dae4af3a59aad6e6e3b7985",
            "value": " 54239/54303 [00:11&lt;00:00, 4977.03 examples/s]"
          }
        },
        "e4256b9e1e2546d389ebad87c27249a9": {
          "model_module": "@jupyter-widgets/base",
          "model_name": "LayoutModel",
          "model_module_version": "1.2.0",
          "state": {
            "_model_module": "@jupyter-widgets/base",
            "_model_module_version": "1.2.0",
            "_model_name": "LayoutModel",
            "_view_count": null,
            "_view_module": "@jupyter-widgets/base",
            "_view_module_version": "1.2.0",
            "_view_name": "LayoutView",
            "align_content": null,
            "align_items": null,
            "align_self": null,
            "border": null,
            "bottom": null,
            "display": null,
            "flex": null,
            "flex_flow": null,
            "grid_area": null,
            "grid_auto_columns": null,
            "grid_auto_flow": null,
            "grid_auto_rows": null,
            "grid_column": null,
            "grid_gap": null,
            "grid_row": null,
            "grid_template_areas": null,
            "grid_template_columns": null,
            "grid_template_rows": null,
            "height": null,
            "justify_content": null,
            "justify_items": null,
            "left": null,
            "margin": null,
            "max_height": null,
            "max_width": null,
            "min_height": null,
            "min_width": null,
            "object_fit": null,
            "object_position": null,
            "order": null,
            "overflow": null,
            "overflow_x": null,
            "overflow_y": null,
            "padding": null,
            "right": null,
            "top": null,
            "visibility": "hidden",
            "width": null
          }
        },
        "c736c038c5a14d6292a87ce9a224b54a": {
          "model_module": "@jupyter-widgets/base",
          "model_name": "LayoutModel",
          "model_module_version": "1.2.0",
          "state": {
            "_model_module": "@jupyter-widgets/base",
            "_model_module_version": "1.2.0",
            "_model_name": "LayoutModel",
            "_view_count": null,
            "_view_module": "@jupyter-widgets/base",
            "_view_module_version": "1.2.0",
            "_view_name": "LayoutView",
            "align_content": null,
            "align_items": null,
            "align_self": null,
            "border": null,
            "bottom": null,
            "display": null,
            "flex": null,
            "flex_flow": null,
            "grid_area": null,
            "grid_auto_columns": null,
            "grid_auto_flow": null,
            "grid_auto_rows": null,
            "grid_column": null,
            "grid_gap": null,
            "grid_row": null,
            "grid_template_areas": null,
            "grid_template_columns": null,
            "grid_template_rows": null,
            "height": null,
            "justify_content": null,
            "justify_items": null,
            "left": null,
            "margin": null,
            "max_height": null,
            "max_width": null,
            "min_height": null,
            "min_width": null,
            "object_fit": null,
            "object_position": null,
            "order": null,
            "overflow": null,
            "overflow_x": null,
            "overflow_y": null,
            "padding": null,
            "right": null,
            "top": null,
            "visibility": null,
            "width": null
          }
        },
        "349b4f0c449e49f5ac993f24928ac129": {
          "model_module": "@jupyter-widgets/controls",
          "model_name": "DescriptionStyleModel",
          "model_module_version": "1.5.0",
          "state": {
            "_model_module": "@jupyter-widgets/controls",
            "_model_module_version": "1.5.0",
            "_model_name": "DescriptionStyleModel",
            "_view_count": null,
            "_view_module": "@jupyter-widgets/base",
            "_view_module_version": "1.2.0",
            "_view_name": "StyleView",
            "description_width": ""
          }
        },
        "5ade75b10b6f42a9bdfac1cae8c6333d": {
          "model_module": "@jupyter-widgets/base",
          "model_name": "LayoutModel",
          "model_module_version": "1.2.0",
          "state": {
            "_model_module": "@jupyter-widgets/base",
            "_model_module_version": "1.2.0",
            "_model_name": "LayoutModel",
            "_view_count": null,
            "_view_module": "@jupyter-widgets/base",
            "_view_module_version": "1.2.0",
            "_view_name": "LayoutView",
            "align_content": null,
            "align_items": null,
            "align_self": null,
            "border": null,
            "bottom": null,
            "display": null,
            "flex": null,
            "flex_flow": null,
            "grid_area": null,
            "grid_auto_columns": null,
            "grid_auto_flow": null,
            "grid_auto_rows": null,
            "grid_column": null,
            "grid_gap": null,
            "grid_row": null,
            "grid_template_areas": null,
            "grid_template_columns": null,
            "grid_template_rows": null,
            "height": null,
            "justify_content": null,
            "justify_items": null,
            "left": null,
            "margin": null,
            "max_height": null,
            "max_width": null,
            "min_height": null,
            "min_width": null,
            "object_fit": null,
            "object_position": null,
            "order": null,
            "overflow": null,
            "overflow_x": null,
            "overflow_y": null,
            "padding": null,
            "right": null,
            "top": null,
            "visibility": null,
            "width": null
          }
        },
        "a7ada38a167b4416b92e8d1383148ec9": {
          "model_module": "@jupyter-widgets/controls",
          "model_name": "ProgressStyleModel",
          "model_module_version": "1.5.0",
          "state": {
            "_model_module": "@jupyter-widgets/controls",
            "_model_module_version": "1.5.0",
            "_model_name": "ProgressStyleModel",
            "_view_count": null,
            "_view_module": "@jupyter-widgets/base",
            "_view_module_version": "1.2.0",
            "_view_name": "StyleView",
            "bar_color": null,
            "description_width": ""
          }
        },
        "fb9aaccc706b401480b4551acf8dc82a": {
          "model_module": "@jupyter-widgets/base",
          "model_name": "LayoutModel",
          "model_module_version": "1.2.0",
          "state": {
            "_model_module": "@jupyter-widgets/base",
            "_model_module_version": "1.2.0",
            "_model_name": "LayoutModel",
            "_view_count": null,
            "_view_module": "@jupyter-widgets/base",
            "_view_module_version": "1.2.0",
            "_view_name": "LayoutView",
            "align_content": null,
            "align_items": null,
            "align_self": null,
            "border": null,
            "bottom": null,
            "display": null,
            "flex": null,
            "flex_flow": null,
            "grid_area": null,
            "grid_auto_columns": null,
            "grid_auto_flow": null,
            "grid_auto_rows": null,
            "grid_column": null,
            "grid_gap": null,
            "grid_row": null,
            "grid_template_areas": null,
            "grid_template_columns": null,
            "grid_template_rows": null,
            "height": null,
            "justify_content": null,
            "justify_items": null,
            "left": null,
            "margin": null,
            "max_height": null,
            "max_width": null,
            "min_height": null,
            "min_width": null,
            "object_fit": null,
            "object_position": null,
            "order": null,
            "overflow": null,
            "overflow_x": null,
            "overflow_y": null,
            "padding": null,
            "right": null,
            "top": null,
            "visibility": null,
            "width": null
          }
        },
        "27690e346dae4af3a59aad6e6e3b7985": {
          "model_module": "@jupyter-widgets/controls",
          "model_name": "DescriptionStyleModel",
          "model_module_version": "1.5.0",
          "state": {
            "_model_module": "@jupyter-widgets/controls",
            "_model_module_version": "1.5.0",
            "_model_name": "DescriptionStyleModel",
            "_view_count": null,
            "_view_module": "@jupyter-widgets/base",
            "_view_module_version": "1.2.0",
            "_view_name": "StyleView",
            "description_width": ""
          }
        },
        "c9211a44c171435886b3f1c6c362b2ca": {
          "model_module": "@jupyter-widgets/controls",
          "model_name": "HBoxModel",
          "model_module_version": "1.5.0",
          "state": {
            "_dom_classes": [],
            "_model_module": "@jupyter-widgets/controls",
            "_model_module_version": "1.5.0",
            "_model_name": "HBoxModel",
            "_view_count": null,
            "_view_module": "@jupyter-widgets/controls",
            "_view_module_version": "1.5.0",
            "_view_name": "HBoxView",
            "box_style": "",
            "children": [
              "IPY_MODEL_e4bb3c2d0a914ba5bafd75daaec45dfc",
              "IPY_MODEL_b41e3e00a48848b49df2ad48d9892b5f",
              "IPY_MODEL_d4c54d057a7e4f1fa08dddcf52211d8b"
            ],
            "layout": "IPY_MODEL_05e15ee0ab2341c1a432d905a0cdf66c"
          }
        },
        "e4bb3c2d0a914ba5bafd75daaec45dfc": {
          "model_module": "@jupyter-widgets/controls",
          "model_name": "HTMLModel",
          "model_module_version": "1.5.0",
          "state": {
            "_dom_classes": [],
            "_model_module": "@jupyter-widgets/controls",
            "_model_module_version": "1.5.0",
            "_model_name": "HTMLModel",
            "_view_count": null,
            "_view_module": "@jupyter-widgets/controls",
            "_view_module_version": "1.5.0",
            "_view_name": "HTMLView",
            "description": "",
            "description_tooltip": null,
            "layout": "IPY_MODEL_88ffb7217b9a4a9b85b2bb94f991c754",
            "placeholder": "​",
            "style": "IPY_MODEL_af0e5d03db0e425086f241036a9bad7d",
            "value": "Shuffling /root/tensorflow_datasets/plant_village/1.0.2.incompleteCWW21T/plant_village-train.tfrecord*...:  95%"
          }
        },
        "b41e3e00a48848b49df2ad48d9892b5f": {
          "model_module": "@jupyter-widgets/controls",
          "model_name": "FloatProgressModel",
          "model_module_version": "1.5.0",
          "state": {
            "_dom_classes": [],
            "_model_module": "@jupyter-widgets/controls",
            "_model_module_version": "1.5.0",
            "_model_name": "FloatProgressModel",
            "_view_count": null,
            "_view_module": "@jupyter-widgets/controls",
            "_view_module_version": "1.5.0",
            "_view_name": "ProgressView",
            "bar_style": "",
            "description": "",
            "description_tooltip": null,
            "layout": "IPY_MODEL_31480719be73411ab7a5a7071aab1d99",
            "max": 54303,
            "min": 0,
            "orientation": "horizontal",
            "style": "IPY_MODEL_072c33c5c351400cadef253440913739",
            "value": 54303
          }
        },
        "d4c54d057a7e4f1fa08dddcf52211d8b": {
          "model_module": "@jupyter-widgets/controls",
          "model_name": "HTMLModel",
          "model_module_version": "1.5.0",
          "state": {
            "_dom_classes": [],
            "_model_module": "@jupyter-widgets/controls",
            "_model_module_version": "1.5.0",
            "_model_name": "HTMLModel",
            "_view_count": null,
            "_view_module": "@jupyter-widgets/controls",
            "_view_module_version": "1.5.0",
            "_view_name": "HTMLView",
            "description": "",
            "description_tooltip": null,
            "layout": "IPY_MODEL_39d065f08c0444bdbbd2e76039223068",
            "placeholder": "​",
            "style": "IPY_MODEL_96a1b4dc1d1e4526af11a4a41a7a8a11",
            "value": " 51505/54303 [00:00&lt;00:00, 59753.59 examples/s]"
          }
        },
        "05e15ee0ab2341c1a432d905a0cdf66c": {
          "model_module": "@jupyter-widgets/base",
          "model_name": "LayoutModel",
          "model_module_version": "1.2.0",
          "state": {
            "_model_module": "@jupyter-widgets/base",
            "_model_module_version": "1.2.0",
            "_model_name": "LayoutModel",
            "_view_count": null,
            "_view_module": "@jupyter-widgets/base",
            "_view_module_version": "1.2.0",
            "_view_name": "LayoutView",
            "align_content": null,
            "align_items": null,
            "align_self": null,
            "border": null,
            "bottom": null,
            "display": null,
            "flex": null,
            "flex_flow": null,
            "grid_area": null,
            "grid_auto_columns": null,
            "grid_auto_flow": null,
            "grid_auto_rows": null,
            "grid_column": null,
            "grid_gap": null,
            "grid_row": null,
            "grid_template_areas": null,
            "grid_template_columns": null,
            "grid_template_rows": null,
            "height": null,
            "justify_content": null,
            "justify_items": null,
            "left": null,
            "margin": null,
            "max_height": null,
            "max_width": null,
            "min_height": null,
            "min_width": null,
            "object_fit": null,
            "object_position": null,
            "order": null,
            "overflow": null,
            "overflow_x": null,
            "overflow_y": null,
            "padding": null,
            "right": null,
            "top": null,
            "visibility": "hidden",
            "width": null
          }
        },
        "88ffb7217b9a4a9b85b2bb94f991c754": {
          "model_module": "@jupyter-widgets/base",
          "model_name": "LayoutModel",
          "model_module_version": "1.2.0",
          "state": {
            "_model_module": "@jupyter-widgets/base",
            "_model_module_version": "1.2.0",
            "_model_name": "LayoutModel",
            "_view_count": null,
            "_view_module": "@jupyter-widgets/base",
            "_view_module_version": "1.2.0",
            "_view_name": "LayoutView",
            "align_content": null,
            "align_items": null,
            "align_self": null,
            "border": null,
            "bottom": null,
            "display": null,
            "flex": null,
            "flex_flow": null,
            "grid_area": null,
            "grid_auto_columns": null,
            "grid_auto_flow": null,
            "grid_auto_rows": null,
            "grid_column": null,
            "grid_gap": null,
            "grid_row": null,
            "grid_template_areas": null,
            "grid_template_columns": null,
            "grid_template_rows": null,
            "height": null,
            "justify_content": null,
            "justify_items": null,
            "left": null,
            "margin": null,
            "max_height": null,
            "max_width": null,
            "min_height": null,
            "min_width": null,
            "object_fit": null,
            "object_position": null,
            "order": null,
            "overflow": null,
            "overflow_x": null,
            "overflow_y": null,
            "padding": null,
            "right": null,
            "top": null,
            "visibility": null,
            "width": null
          }
        },
        "af0e5d03db0e425086f241036a9bad7d": {
          "model_module": "@jupyter-widgets/controls",
          "model_name": "DescriptionStyleModel",
          "model_module_version": "1.5.0",
          "state": {
            "_model_module": "@jupyter-widgets/controls",
            "_model_module_version": "1.5.0",
            "_model_name": "DescriptionStyleModel",
            "_view_count": null,
            "_view_module": "@jupyter-widgets/base",
            "_view_module_version": "1.2.0",
            "_view_name": "StyleView",
            "description_width": ""
          }
        },
        "31480719be73411ab7a5a7071aab1d99": {
          "model_module": "@jupyter-widgets/base",
          "model_name": "LayoutModel",
          "model_module_version": "1.2.0",
          "state": {
            "_model_module": "@jupyter-widgets/base",
            "_model_module_version": "1.2.0",
            "_model_name": "LayoutModel",
            "_view_count": null,
            "_view_module": "@jupyter-widgets/base",
            "_view_module_version": "1.2.0",
            "_view_name": "LayoutView",
            "align_content": null,
            "align_items": null,
            "align_self": null,
            "border": null,
            "bottom": null,
            "display": null,
            "flex": null,
            "flex_flow": null,
            "grid_area": null,
            "grid_auto_columns": null,
            "grid_auto_flow": null,
            "grid_auto_rows": null,
            "grid_column": null,
            "grid_gap": null,
            "grid_row": null,
            "grid_template_areas": null,
            "grid_template_columns": null,
            "grid_template_rows": null,
            "height": null,
            "justify_content": null,
            "justify_items": null,
            "left": null,
            "margin": null,
            "max_height": null,
            "max_width": null,
            "min_height": null,
            "min_width": null,
            "object_fit": null,
            "object_position": null,
            "order": null,
            "overflow": null,
            "overflow_x": null,
            "overflow_y": null,
            "padding": null,
            "right": null,
            "top": null,
            "visibility": null,
            "width": null
          }
        },
        "072c33c5c351400cadef253440913739": {
          "model_module": "@jupyter-widgets/controls",
          "model_name": "ProgressStyleModel",
          "model_module_version": "1.5.0",
          "state": {
            "_model_module": "@jupyter-widgets/controls",
            "_model_module_version": "1.5.0",
            "_model_name": "ProgressStyleModel",
            "_view_count": null,
            "_view_module": "@jupyter-widgets/base",
            "_view_module_version": "1.2.0",
            "_view_name": "StyleView",
            "bar_color": null,
            "description_width": ""
          }
        },
        "39d065f08c0444bdbbd2e76039223068": {
          "model_module": "@jupyter-widgets/base",
          "model_name": "LayoutModel",
          "model_module_version": "1.2.0",
          "state": {
            "_model_module": "@jupyter-widgets/base",
            "_model_module_version": "1.2.0",
            "_model_name": "LayoutModel",
            "_view_count": null,
            "_view_module": "@jupyter-widgets/base",
            "_view_module_version": "1.2.0",
            "_view_name": "LayoutView",
            "align_content": null,
            "align_items": null,
            "align_self": null,
            "border": null,
            "bottom": null,
            "display": null,
            "flex": null,
            "flex_flow": null,
            "grid_area": null,
            "grid_auto_columns": null,
            "grid_auto_flow": null,
            "grid_auto_rows": null,
            "grid_column": null,
            "grid_gap": null,
            "grid_row": null,
            "grid_template_areas": null,
            "grid_template_columns": null,
            "grid_template_rows": null,
            "height": null,
            "justify_content": null,
            "justify_items": null,
            "left": null,
            "margin": null,
            "max_height": null,
            "max_width": null,
            "min_height": null,
            "min_width": null,
            "object_fit": null,
            "object_position": null,
            "order": null,
            "overflow": null,
            "overflow_x": null,
            "overflow_y": null,
            "padding": null,
            "right": null,
            "top": null,
            "visibility": null,
            "width": null
          }
        },
        "96a1b4dc1d1e4526af11a4a41a7a8a11": {
          "model_module": "@jupyter-widgets/controls",
          "model_name": "DescriptionStyleModel",
          "model_module_version": "1.5.0",
          "state": {
            "_model_module": "@jupyter-widgets/controls",
            "_model_module_version": "1.5.0",
            "_model_name": "DescriptionStyleModel",
            "_view_count": null,
            "_view_module": "@jupyter-widgets/base",
            "_view_module_version": "1.2.0",
            "_view_name": "StyleView",
            "description_width": ""
          }
        }
      }
    }
  },
  "cells": [
    {
      "cell_type": "markdown",
      "source": [
        "# Version 1"
      ],
      "metadata": {
        "id": "D3TaQrZYEwTj"
      }
    },
    {
      "cell_type": "markdown",
      "source": [
        "The code starts by importing the necessary libraries and installing tensorflow-addons if it's not already installed. The required libraries are then imported, including TensorFlow, scikit-learn, and TensorFlow Addons. TensorFlow Datasets is also imported for loading the PlantVillage dataset."
      ],
      "metadata": {
        "id": "x4g89CVhGJ6j"
      }
    },
    {
      "cell_type": "code",
      "source": [
        "# Required Libraries\n",
        "!pip install tensorflow-addons\n",
        "import tensorflow as tf\n",
        "from tensorflow.keras.utils import to_categorical\n",
        "from sklearn.model_selection import train_test_split\n",
        "from tensorflow.keras.preprocessing.image import ImageDataGenerator\n",
        "import tensorflow_addons as tfa\n",
        "import tensorflow_datasets as tfds"
      ],
      "metadata": {
        "colab": {
          "base_uri": "https://localhost:8080/"
        },
        "id": "l1dWxxdyEs-u",
        "outputId": "605e4013-f876-48ec-d25f-4cb29d84f7c3"
      },
      "execution_count": null,
      "outputs": [
        {
          "output_type": "stream",
          "name": "stdout",
          "text": [
            "Looking in indexes: https://pypi.org/simple, https://us-python.pkg.dev/colab-wheels/public/simple/\n",
            "Collecting tensorflow-addons\n",
            "  Downloading tensorflow_addons-0.20.0-cp310-cp310-manylinux_2_17_x86_64.manylinux2014_x86_64.whl (591 kB)\n",
            "\u001b[2K     \u001b[90m━━━━━━━━━━━━━━━━━━━━━━━━━━━━━━━━━━━━━━━\u001b[0m \u001b[32m591.0/591.0 kB\u001b[0m \u001b[31m9.4 MB/s\u001b[0m eta \u001b[36m0:00:00\u001b[0m\n",
            "\u001b[?25hRequirement already satisfied: packaging in /usr/local/lib/python3.10/dist-packages (from tensorflow-addons) (23.1)\n",
            "Collecting typeguard<3.0.0,>=2.7 (from tensorflow-addons)\n",
            "  Downloading typeguard-2.13.3-py3-none-any.whl (17 kB)\n",
            "Installing collected packages: typeguard, tensorflow-addons\n",
            "Successfully installed tensorflow-addons-0.20.0 typeguard-2.13.3\n"
          ]
        },
        {
          "output_type": "stream",
          "name": "stderr",
          "text": [
            "/usr/local/lib/python3.10/dist-packages/tensorflow_addons/utils/tfa_eol_msg.py:23: UserWarning: \n",
            "\n",
            "TensorFlow Addons (TFA) has ended development and introduction of new features.\n",
            "TFA has entered a minimal maintenance and release mode until a planned end of life in May 2024.\n",
            "Please modify downstream libraries to take dependencies from other repositories in our TensorFlow community (e.g. Keras, Keras-CV, and Keras-NLP). \n",
            "\n",
            "For more information see: https://github.com/tensorflow/addons/issues/2807 \n",
            "\n",
            "  warnings.warn(\n"
          ]
        }
      ]
    },
    {
      "cell_type": "markdown",
      "source": [
        "The PlantVillage dataset is loaded using the tfds.load function. It is split into training and validation sets with an 80-20 split ratio. The as_supervised=True argument ensures that the dataset is returned in a tuple of (image, label) format. The with_info=True argument retrieves information about the dataset."
      ],
      "metadata": {
        "id": "TzHFwy8iGO8O"
      }
    },
    {
      "cell_type": "code",
      "source": [
        "# Load the PlantVillage dataset\n",
        "(ds_train, ds_val), ds_info = tfds.load(\n",
        "    'plant_village',\n",
        "    split=['train[:80%]', 'train[80%:]'],\n",
        "    as_supervised=True,\n",
        "    with_info=True,\n",
        ")"
      ],
      "metadata": {
        "id": "XbnUMQVqEy1Q",
        "colab": {
          "base_uri": "https://localhost:8080/",
          "height": 1000,
          "referenced_widgets": [
            "1cd50c291ed84502a6485dec27b6bf03",
            "2ef8dbf09f034b3288f3b55c9b3b1b5d",
            "7915a6da9ecb46e883afccbbdf36afe5",
            "31db09daafb24b6b9259b08f0e8890db",
            "7ce9344b08eb485aadb703b4080c4b0c",
            "071794d4d33f4d2c83ce2c4a36aa4c57",
            "5c05c4d0646c4a4f9facb10e66a9ff51",
            "0a3f5e01aa25494ebd73cc344f6e8c58",
            "536b49810a264ecd9b508258f2c2dfec",
            "73c50c7e2dee4b3889aba0c55d304e77",
            "65b89a0a382b4ae4ab18ab937573ec2a",
            "65828df2a7f6429bbcbdd23f4158927a",
            "55b15f5026d74fc6bd17502b26ce3f3e",
            "e83b98be4d6b47caad11a16e22c5e12c",
            "f5f4a53df08240afadd0d3aa7ce77074",
            "c9d5ee4cce0c4626a180c5dd473b235b",
            "dd658e97a51d4c6a9f95fec83a4dd24c",
            "86f89c10f62c42b4b3151bbc259fb577",
            "2221ab7eed3b44e3bbed732860d74215",
            "a1f440c0a0b8417d8eb15a27154eafe5",
            "c29bba5941c143c29eaf903306209c42",
            "051b0fb6318c420c9f5327759eb76188",
            "f5262fd8e08549cd9dbf8027477f35a7",
            "79044e0fba124afaab558f0f4db51262",
            "5b94ecb2919a4600add0512af2b65a6a",
            "f4915073c1ed437a89fb83be686506e5",
            "a2422b90a7ee4b7b84b8d3c62e00844f",
            "c9ccea47e15a46bb9ab830db46eeac52",
            "bb054a91ae394f7cb1a3f42fefe1e7c1",
            "1dcbe32773e042319bd042629e602243",
            "339186d0add143d6b9d073af1e696ab3",
            "0692b4536a044ee08a354f3b3899fcd0",
            "d022a0ace0734586aabce354c791bddb",
            "ab90dff0b0ae479f8caafab7fb2d881e",
            "3bf3f4baa4d946bcb4950264539fd926",
            "f31faecda8354d41978083972bef682b",
            "1218dcb467464eec953170091c041200",
            "e10161f8b99c48caab8e059c1f24fcef",
            "32330cf8352d4f4da5f44fb125614ff1",
            "aab1d1882e39490298ac5c6ebab8213e",
            "f69dfacb2c394886a8e97de0412a8bac",
            "1ea7ff7d6d8642f29d5e1c67783de0a1",
            "2ef53eed2c84422787b66edf1edbd16c",
            "95212eccf64c43d3acfff8901126aaa5",
            "43c64a97be1447a088cfa1806458cd69",
            "16aa38532fe0447da2a87296907f40c4",
            "03b239d45ee14e9d93493b5597aff053",
            "e7dfa2592dd04d48b16e15e4f5fd372e",
            "e4256b9e1e2546d389ebad87c27249a9",
            "c736c038c5a14d6292a87ce9a224b54a",
            "349b4f0c449e49f5ac993f24928ac129",
            "5ade75b10b6f42a9bdfac1cae8c6333d",
            "a7ada38a167b4416b92e8d1383148ec9",
            "fb9aaccc706b401480b4551acf8dc82a",
            "27690e346dae4af3a59aad6e6e3b7985",
            "c9211a44c171435886b3f1c6c362b2ca",
            "e4bb3c2d0a914ba5bafd75daaec45dfc",
            "b41e3e00a48848b49df2ad48d9892b5f",
            "d4c54d057a7e4f1fa08dddcf52211d8b",
            "05e15ee0ab2341c1a432d905a0cdf66c",
            "88ffb7217b9a4a9b85b2bb94f991c754",
            "af0e5d03db0e425086f241036a9bad7d",
            "31480719be73411ab7a5a7071aab1d99",
            "072c33c5c351400cadef253440913739",
            "39d065f08c0444bdbbd2e76039223068",
            "96a1b4dc1d1e4526af11a4a41a7a8a11"
          ]
        },
        "outputId": "ea26e636-c977-4bc2-edfc-27f77cc56659"
      },
      "execution_count": null,
      "outputs": [
        {
          "output_type": "stream",
          "name": "stdout",
          "text": [
            "Downloading and preparing dataset 827.82 MiB (download: 827.82 MiB, generated: 815.37 MiB, total: 1.60 GiB) to /root/tensorflow_datasets/plant_village/1.0.2...\n"
          ]
        },
        {
          "output_type": "display_data",
          "data": {
            "text/plain": [
              "Dl Completed...: 0 url [00:00, ? url/s]"
            ],
            "application/vnd.jupyter.widget-view+json": {
              "version_major": 2,
              "version_minor": 0,
              "model_id": "1cd50c291ed84502a6485dec27b6bf03"
            }
          },
          "metadata": {}
        },
        {
          "output_type": "display_data",
          "data": {
            "text/plain": [
              "Dl Size...: 0 MiB [00:00, ? MiB/s]"
            ],
            "application/vnd.jupyter.widget-view+json": {
              "version_major": 2,
              "version_minor": 0,
              "model_id": "65828df2a7f6429bbcbdd23f4158927a"
            }
          },
          "metadata": {}
        },
        {
          "output_type": "display_data",
          "data": {
            "text/plain": [
              "Extraction completed...: 0 file [00:00, ? file/s]"
            ],
            "application/vnd.jupyter.widget-view+json": {
              "version_major": 2,
              "version_minor": 0,
              "model_id": "f5262fd8e08549cd9dbf8027477f35a7"
            }
          },
          "metadata": {}
        },
        {
          "output_type": "stream",
          "name": "stderr",
          "text": [
            "IOPub message rate exceeded.\n",
            "The notebook server will temporarily stop sending output\n",
            "to the client in order to avoid crashing it.\n",
            "To change this limit, set the config variable\n",
            "`--NotebookApp.iopub_msg_rate_limit`.\n",
            "\n",
            "Current values:\n",
            "NotebookApp.iopub_msg_rate_limit=1000.0 (msgs/sec)\n",
            "NotebookApp.rate_limit_window=3.0 (secs)\n",
            "\n",
            "IOPub message rate exceeded.\n",
            "The notebook server will temporarily stop sending output\n",
            "to the client in order to avoid crashing it.\n",
            "To change this limit, set the config variable\n",
            "`--NotebookApp.iopub_msg_rate_limit`.\n",
            "\n",
            "Current values:\n",
            "NotebookApp.iopub_msg_rate_limit=1000.0 (msgs/sec)\n",
            "NotebookApp.rate_limit_window=3.0 (secs)\n",
            "\n",
            "IOPub message rate exceeded.\n",
            "The notebook server will temporarily stop sending output\n",
            "to the client in order to avoid crashing it.\n",
            "To change this limit, set the config variable\n",
            "`--NotebookApp.iopub_msg_rate_limit`.\n",
            "\n",
            "Current values:\n",
            "NotebookApp.iopub_msg_rate_limit=1000.0 (msgs/sec)\n",
            "NotebookApp.rate_limit_window=3.0 (secs)\n",
            "\n",
            "IOPub message rate exceeded.\n",
            "The notebook server will temporarily stop sending output\n",
            "to the client in order to avoid crashing it.\n",
            "To change this limit, set the config variable\n",
            "`--NotebookApp.iopub_msg_rate_limit`.\n",
            "\n",
            "Current values:\n",
            "NotebookApp.iopub_msg_rate_limit=1000.0 (msgs/sec)\n",
            "NotebookApp.rate_limit_window=3.0 (secs)\n",
            "\n",
            "IOPub message rate exceeded.\n",
            "The notebook server will temporarily stop sending output\n",
            "to the client in order to avoid crashing it.\n",
            "To change this limit, set the config variable\n",
            "`--NotebookApp.iopub_msg_rate_limit`.\n",
            "\n",
            "Current values:\n",
            "NotebookApp.iopub_msg_rate_limit=1000.0 (msgs/sec)\n",
            "NotebookApp.rate_limit_window=3.0 (secs)\n",
            "\n",
            "IOPub message rate exceeded.\n",
            "The notebook server will temporarily stop sending output\n",
            "to the client in order to avoid crashing it.\n",
            "To change this limit, set the config variable\n",
            "`--NotebookApp.iopub_msg_rate_limit`.\n",
            "\n",
            "Current values:\n",
            "NotebookApp.iopub_msg_rate_limit=1000.0 (msgs/sec)\n",
            "NotebookApp.rate_limit_window=3.0 (secs)\n",
            "\n",
            "IOPub message rate exceeded.\n",
            "The notebook server will temporarily stop sending output\n",
            "to the client in order to avoid crashing it.\n",
            "To change this limit, set the config variable\n",
            "`--NotebookApp.iopub_msg_rate_limit`.\n",
            "\n",
            "Current values:\n",
            "NotebookApp.iopub_msg_rate_limit=1000.0 (msgs/sec)\n",
            "NotebookApp.rate_limit_window=3.0 (secs)\n",
            "\n"
          ]
        },
        {
          "output_type": "display_data",
          "data": {
            "text/plain": [
              "Generating splits...:   0%|          | 0/1 [00:00<?, ? splits/s]"
            ],
            "application/vnd.jupyter.widget-view+json": {
              "version_major": 2,
              "version_minor": 0,
              "model_id": "ab90dff0b0ae479f8caafab7fb2d881e"
            }
          },
          "metadata": {}
        },
        {
          "output_type": "display_data",
          "data": {
            "text/plain": [
              "Generating train examples...:   0%|          | 0/54303 [00:00<?, ? examples/s]"
            ],
            "application/vnd.jupyter.widget-view+json": {
              "version_major": 2,
              "version_minor": 0,
              "model_id": "43c64a97be1447a088cfa1806458cd69"
            }
          },
          "metadata": {}
        },
        {
          "output_type": "display_data",
          "data": {
            "text/plain": [
              "Shuffling /root/tensorflow_datasets/plant_village/1.0.2.incompleteCWW21T/plant_village-train.tfrecord*...:   0…"
            ],
            "application/vnd.jupyter.widget-view+json": {
              "version_major": 2,
              "version_minor": 0,
              "model_id": "c9211a44c171435886b3f1c6c362b2ca"
            }
          },
          "metadata": {}
        },
        {
          "output_type": "stream",
          "name": "stdout",
          "text": [
            "Dataset plant_village downloaded and prepared to /root/tensorflow_datasets/plant_village/1.0.2. Subsequent calls will reuse this data.\n"
          ]
        }
      ]
    },
    {
      "cell_type": "markdown",
      "source": [
        "The preprocess_data function is defined to preprocess the images and labels. The images are cast to float32 and normalized to the range [0, 1]. The labels are one-hot encoded using tf.one_hot based on the number of classes in the dataset."
      ],
      "metadata": {
        "id": "e67zt0HVGYtD"
      }
    },
    {
      "cell_type": "code",
      "source": [
        "# Preprocess function\n",
        "def preprocess_data(image, label):\n",
        "    image = tf.cast(image, tf.float32) / 255.0\n",
        "    label = tf.one_hot(label, depth=ds_info.features['label'].num_classes)\n",
        "    return image, label"
      ],
      "metadata": {
        "id": "e7Yk__wnGoYY"
      },
      "execution_count": null,
      "outputs": []
    },
    {
      "cell_type": "markdown",
      "source": [
        "Both the training and validation datasets are preprocessed using the map function with the preprocess_data function. They are then batched and prefetched for better performance during training."
      ],
      "metadata": {
        "id": "IpSHbzeTGeLE"
      }
    },
    {
      "cell_type": "code",
      "source": [
        "# Preprocess the datasets\n",
        "train_ds = ds_train.map(preprocess_data, num_parallel_calls=tf.data.experimental.AUTOTUNE)\n",
        "val_ds = ds_val.map(preprocess_data, num_parallel_calls=tf.data.experimental.AUTOTUNE)"
      ],
      "metadata": {
        "id": "CCvv4PoCGoKr"
      },
      "execution_count": null,
      "outputs": []
    },
    {
      "cell_type": "code",
      "source": [
        "# Batch the datasets\n",
        "batch_size = 32\n",
        "train_ds = train_ds.batch(batch_size).prefetch(buffer_size=tf.data.experimental.AUTOTUNE)\n",
        "val_ds = val_ds.batch(batch_size).prefetch(buffer_size=tf.data.experimental.AUTOTUNE)"
      ],
      "metadata": {
        "id": "k9NBujNDG5pa"
      },
      "execution_count": null,
      "outputs": []
    },
    {
      "cell_type": "code",
      "source": [
        "import os\n",
        "import numpy as np\n",
        "from tensorflow.keras.preprocessing import image"
      ],
      "metadata": {
        "id": "GEfNpohCHCrt"
      },
      "execution_count": null,
      "outputs": []
    },
    {
      "cell_type": "markdown",
      "source": [
        "The number of classes and class names are printed to verify the dataset's properties."
      ],
      "metadata": {
        "id": "xvB1gjEpGj_M"
      }
    },
    {
      "cell_type": "code",
      "source": [
        "class_names = ds_info.features['label'].names\n",
        "print(f\"Class names: {class_names}\")\n",
        "print(len(class_names))"
      ],
      "metadata": {
        "colab": {
          "base_uri": "https://localhost:8080/"
        },
        "id": "94sHjPmpIG8E",
        "outputId": "5afe17f4-10e0-47b5-e61f-b98a1e47f4ab"
      },
      "execution_count": null,
      "outputs": [
        {
          "output_type": "stream",
          "name": "stdout",
          "text": [
            "Class names: ['Apple___Apple_scab', 'Apple___Black_rot', 'Apple___Cedar_apple_rust', 'Apple___healthy', 'Blueberry___healthy', 'Cherry___healthy', 'Cherry___Powdery_mildew', 'Corn___Cercospora_leaf_spot Gray_leaf_spot', 'Corn___Common_rust', 'Corn___healthy', 'Corn___Northern_Leaf_Blight', 'Grape___Black_rot', 'Grape___Esca_(Black_Measles)', 'Grape___healthy', 'Grape___Leaf_blight_(Isariopsis_Leaf_Spot)', 'Orange___Haunglongbing_(Citrus_greening)', 'Peach___Bacterial_spot', 'Peach___healthy', 'Pepper,_bell___Bacterial_spot', 'Pepper,_bell___healthy', 'Potato___Early_blight', 'Potato___healthy', 'Potato___Late_blight', 'Raspberry___healthy', 'Soybean___healthy', 'Squash___Powdery_mildew', 'Strawberry___healthy', 'Strawberry___Leaf_scorch', 'Tomato___Bacterial_spot', 'Tomato___Early_blight', 'Tomato___healthy', 'Tomato___Late_blight', 'Tomato___Leaf_Mold', 'Tomato___Septoria_leaf_spot', 'Tomato___Spider_mites Two-spotted_spider_mite', 'Tomato___Target_Spot', 'Tomato___Tomato_mosaic_virus', 'Tomato___Tomato_Yellow_Leaf_Curl_Virus']\n",
            "38\n"
          ]
        }
      ]
    },
    {
      "cell_type": "markdown",
      "source": [
        "Next, the model architecture is defined using the InceptionV3 base model. The base model is loaded with pre-trained weights from the ImageNet dataset and excludes the top classification layer. The pre-trained layers are frozen by setting layer.trainable = False. A new classification layer is added on top of the base model, consisting of a global average pooling layer, a dense layer with 256 units and ReLU activation, and a final dense layer with num_classes units and softmax activation."
      ],
      "metadata": {
        "id": "aDJ-YUmZGr1d"
      }
    },
    {
      "cell_type": "code",
      "source": [
        "import tensorflow as tf\n",
        "from tensorflow.keras.applications import InceptionV3\n",
        "from tensorflow.keras.layers import Dense, GlobalAveragePooling2D\n",
        "from tensorflow.keras.models import Model\n",
        "from tensorflow.keras.callbacks import ModelCheckpoint\n",
        "\n",
        "# Create a ModelCheckpoint callback\n",
        "checkpoint_callback = ModelCheckpoint(\n",
        "    'best_model_InceptionV3.h5',\n",
        "    monitor='val_loss',\n",
        "    save_best_only=True,\n",
        "    save_weights_only=False,\n",
        "    mode='min',\n",
        "    verbose=1\n",
        ")"
      ],
      "metadata": {
        "id": "VgJm-Z0lTSvh"
      },
      "execution_count": null,
      "outputs": []
    },
    {
      "cell_type": "code",
      "source": [
        "num_classes = 38\n",
        "num_epochs = 20\n",
        "# Load the pre-trained InceptionV3 model without the top classification layer\n",
        "base_model = InceptionV3(weights='imagenet', include_top=False, input_shape=(256, 256, 3))\n",
        "\n",
        "# Freeze the pre-trained layers\n",
        "for layer in base_model.layers:\n",
        "    layer.trainable = False\n",
        "\n",
        "# Add a new classification layer on top\n",
        "x = base_model.output\n",
        "x = GlobalAveragePooling2D()(x)\n",
        "x = Dense(256, activation='relu')(x)\n",
        "predictions = Dense(num_classes, activation='softmax')(x)\n"
      ],
      "metadata": {
        "id": "kzM06wTMoyTS",
        "colab": {
          "base_uri": "https://localhost:8080/"
        },
        "outputId": "1a04c4b1-5349-4b71-b6f3-5d3696484f93"
      },
      "execution_count": null,
      "outputs": [
        {
          "output_type": "stream",
          "name": "stdout",
          "text": [
            "Downloading data from https://storage.googleapis.com/tensorflow/keras-applications/inception_v3/inception_v3_weights_tf_dim_ordering_tf_kernels_notop.h5\n",
            "87910968/87910968 [==============================] - 0s 0us/step\n"
          ]
        }
      ]
    },
    {
      "cell_type": "markdown",
      "source": [
        "The model is compiled with the Adam optimizer, categorical cross-entropy loss function, and accuracy as the evaluation metric."
      ],
      "metadata": {
        "id": "I_CvvO6PGzuz"
      }
    },
    {
      "cell_type": "code",
      "source": [
        "# Create the transfer learning model\n",
        "model = Model(inputs=base_model.input, outputs=predictions)\n",
        "\n",
        "# Compile the model\n",
        "model.compile(optimizer='adam', loss='categorical_crossentropy', metrics=['accuracy'])"
      ],
      "metadata": {
        "id": "WPoyLxEmo3U3"
      },
      "execution_count": null,
      "outputs": []
    },
    {
      "cell_type": "markdown",
      "source": [
        "The model is trained using the fit function, providing the training and validation datasets. The checkpoint_callback saves the best model based on the validation loss. The training is performed for num_epochs epochs.\n"
      ],
      "metadata": {
        "id": "1ZuRiXf_G7jR"
      }
    },
    {
      "cell_type": "code",
      "source": [
        "# Train the model\n",
        "history = model.fit(train_ds, validation_data=val_ds, epochs=num_epochs, callbacks=[checkpoint_callback])"
      ],
      "metadata": {
        "colab": {
          "base_uri": "https://localhost:8080/"
        },
        "id": "UaAfDZMWo5yG",
        "outputId": "ef2d4708-0bc9-47a6-8a84-bbf873486fdf"
      },
      "execution_count": null,
      "outputs": [
        {
          "output_type": "stream",
          "name": "stdout",
          "text": [
            "Epoch 1/20\n",
            "1358/1358 [==============================] - ETA: 0s - loss: 0.5682 - accuracy: 0.8320\n",
            "Epoch 1: val_loss improved from inf to 0.31908, saving model to best_model_InceptionV3.h5\n",
            "1358/1358 [==============================] - 43s 22ms/step - loss: 0.5682 - accuracy: 0.8320 - val_loss: 0.3191 - val_accuracy: 0.8955\n",
            "Epoch 2/20\n",
            "1357/1358 [============================>.] - ETA: 0s - loss: 0.2639 - accuracy: 0.9140\n",
            "Epoch 2: val_loss did not improve from 0.31908\n",
            "1358/1358 [==============================] - 27s 20ms/step - loss: 0.2638 - accuracy: 0.9140 - val_loss: 0.3259 - val_accuracy: 0.8951\n",
            "Epoch 3/20\n",
            "1357/1358 [============================>.] - ETA: 0s - loss: 0.1999 - accuracy: 0.9332\n",
            "Epoch 3: val_loss improved from 0.31908 to 0.30355, saving model to best_model_InceptionV3.h5\n",
            "1358/1358 [==============================] - 28s 20ms/step - loss: 0.1999 - accuracy: 0.9333 - val_loss: 0.3035 - val_accuracy: 0.9015\n",
            "Epoch 4/20\n",
            "1357/1358 [============================>.] - ETA: 0s - loss: 0.1641 - accuracy: 0.9453\n",
            "Epoch 4: val_loss improved from 0.30355 to 0.28651, saving model to best_model_InceptionV3.h5\n",
            "1358/1358 [==============================] - 28s 20ms/step - loss: 0.1640 - accuracy: 0.9453 - val_loss: 0.2865 - val_accuracy: 0.9094\n",
            "Epoch 5/20\n",
            "1356/1358 [============================>.] - ETA: 0s - loss: 0.1364 - accuracy: 0.9541\n",
            "Epoch 5: val_loss did not improve from 0.28651\n",
            "1358/1358 [==============================] - 27s 20ms/step - loss: 0.1363 - accuracy: 0.9541 - val_loss: 0.3353 - val_accuracy: 0.9006\n",
            "Epoch 6/20\n",
            "1358/1358 [==============================] - ETA: 0s - loss: 0.1185 - accuracy: 0.9600\n",
            "Epoch 6: val_loss did not improve from 0.28651\n",
            "1358/1358 [==============================] - 27s 20ms/step - loss: 0.1185 - accuracy: 0.9600 - val_loss: 0.3301 - val_accuracy: 0.9035\n",
            "Epoch 7/20\n",
            "1355/1358 [============================>.] - ETA: 0s - loss: 0.1114 - accuracy: 0.9607\n",
            "Epoch 7: val_loss improved from 0.28651 to 0.26324, saving model to best_model_InceptionV3.h5\n",
            "1358/1358 [==============================] - 28s 20ms/step - loss: 0.1112 - accuracy: 0.9607 - val_loss: 0.2632 - val_accuracy: 0.9245\n",
            "Epoch 8/20\n",
            "1358/1358 [==============================] - ETA: 0s - loss: 0.0958 - accuracy: 0.9673\n",
            "Epoch 8: val_loss did not improve from 0.26324\n",
            "1358/1358 [==============================] - 27s 20ms/step - loss: 0.0958 - accuracy: 0.9673 - val_loss: 0.2773 - val_accuracy: 0.9235\n",
            "Epoch 9/20\n",
            "1357/1358 [============================>.] - ETA: 0s - loss: 0.0857 - accuracy: 0.9701\n",
            "Epoch 9: val_loss did not improve from 0.26324\n",
            "1358/1358 [==============================] - 27s 20ms/step - loss: 0.0857 - accuracy: 0.9701 - val_loss: 0.2832 - val_accuracy: 0.9266\n",
            "Epoch 10/20\n",
            "1358/1358 [==============================] - ETA: 0s - loss: 0.0768 - accuracy: 0.9724\n",
            "Epoch 10: val_loss did not improve from 0.26324\n",
            "1358/1358 [==============================] - 27s 20ms/step - loss: 0.0768 - accuracy: 0.9724 - val_loss: 0.2766 - val_accuracy: 0.9270\n",
            "Epoch 11/20\n",
            "1357/1358 [============================>.] - ETA: 0s - loss: 0.0761 - accuracy: 0.9734\n",
            "Epoch 11: val_loss did not improve from 0.26324\n",
            "1358/1358 [==============================] - 27s 20ms/step - loss: 0.0761 - accuracy: 0.9734 - val_loss: 0.3377 - val_accuracy: 0.9189\n",
            "Epoch 12/20\n",
            "1355/1358 [============================>.] - ETA: 0s - loss: 0.0628 - accuracy: 0.9778\n",
            "Epoch 12: val_loss did not improve from 0.26324\n",
            "1358/1358 [==============================] - 27s 20ms/step - loss: 0.0626 - accuracy: 0.9778 - val_loss: 0.3337 - val_accuracy: 0.9206\n",
            "Epoch 13/20\n",
            "1355/1358 [============================>.] - ETA: 0s - loss: 0.0694 - accuracy: 0.9766\n",
            "Epoch 13: val_loss did not improve from 0.26324\n",
            "1358/1358 [==============================] - 27s 20ms/step - loss: 0.0693 - accuracy: 0.9766 - val_loss: 0.2963 - val_accuracy: 0.9328\n",
            "Epoch 14/20\n",
            "1358/1358 [==============================] - ETA: 0s - loss: 0.0548 - accuracy: 0.9806\n",
            "Epoch 14: val_loss did not improve from 0.26324\n",
            "1358/1358 [==============================] - 27s 20ms/step - loss: 0.0548 - accuracy: 0.9806 - val_loss: 0.4460 - val_accuracy: 0.9128\n",
            "Epoch 15/20\n",
            "1358/1358 [==============================] - ETA: 0s - loss: 0.0537 - accuracy: 0.9812\n",
            "Epoch 15: val_loss did not improve from 0.26324\n",
            "1358/1358 [==============================] - 27s 20ms/step - loss: 0.0537 - accuracy: 0.9812 - val_loss: 0.3024 - val_accuracy: 0.9335\n",
            "Epoch 16/20\n",
            "1355/1358 [============================>.] - ETA: 0s - loss: 0.0499 - accuracy: 0.9814\n",
            "Epoch 16: val_loss did not improve from 0.26324\n",
            "1358/1358 [==============================] - 27s 20ms/step - loss: 0.0499 - accuracy: 0.9814 - val_loss: 0.3191 - val_accuracy: 0.9297\n",
            "Epoch 17/20\n",
            "1358/1358 [==============================] - ETA: 0s - loss: 0.0451 - accuracy: 0.9836\n",
            "Epoch 17: val_loss did not improve from 0.26324\n",
            "1358/1358 [==============================] - 27s 20ms/step - loss: 0.0451 - accuracy: 0.9836 - val_loss: 0.3325 - val_accuracy: 0.9327\n",
            "Epoch 18/20\n",
            "1358/1358 [==============================] - ETA: 0s - loss: 0.0519 - accuracy: 0.9825\n",
            "Epoch 18: val_loss did not improve from 0.26324\n",
            "1358/1358 [==============================] - 27s 20ms/step - loss: 0.0519 - accuracy: 0.9825 - val_loss: 0.3657 - val_accuracy: 0.9280\n",
            "Epoch 19/20\n",
            "1358/1358 [==============================] - ETA: 0s - loss: 0.0473 - accuracy: 0.9836\n",
            "Epoch 19: val_loss did not improve from 0.26324\n",
            "1358/1358 [==============================] - 27s 20ms/step - loss: 0.0473 - accuracy: 0.9836 - val_loss: 0.3859 - val_accuracy: 0.9237\n",
            "Epoch 20/20\n",
            "1357/1358 [============================>.] - ETA: 0s - loss: 0.0424 - accuracy: 0.9851\n",
            "Epoch 20: val_loss did not improve from 0.26324\n",
            "1358/1358 [==============================] - 27s 20ms/step - loss: 0.0424 - accuracy: 0.9851 - val_loss: 0.4153 - val_accuracy: 0.9296\n"
          ]
        }
      ]
    },
    {
      "cell_type": "code",
      "source": [
        "# Evaluate the model\n",
        "loss, accuracy = model.evaluate(val_ds)"
      ],
      "metadata": {
        "id": "LxegVvDIo7xQ",
        "colab": {
          "base_uri": "https://localhost:8080/"
        },
        "outputId": "b751762d-4279-43f0-fbf4-95cee44ae828"
      },
      "execution_count": null,
      "outputs": [
        {
          "output_type": "stream",
          "name": "stdout",
          "text": [
            "340/340 [==============================] - 5s 16ms/step - loss: 0.4153 - accuracy: 0.9296\n"
          ]
        }
      ]
    },
    {
      "cell_type": "markdown",
      "source": [
        "### Analysis Version 1:\n",
        "\n",
        "In the first epoch, the training accuracy was 83.20%, and the validation accuracy was 89.55%. The validation loss improved from infinity to 0.31908, and the model weights were saved.\n",
        "\n",
        "In the following epochs, the validation loss fluctuated but generally improved. However, there were some epochs where the validation loss did not improve, such as epoch 2 and epoch 5.\n",
        "\n",
        "The training accuracy gradually increased throughout the epochs, reaching 98.51% in the final epoch.\n",
        "The validation accuracy reached a maximum of 93.35% in epoch 13.\n",
        "\n",
        "The final evaluation of the model on the validation dataset resulted in a loss of 0.4153 and an accuracy of 92.96%."
      ],
      "metadata": {
        "id": "FCa8kGweG-rP"
      }
    },
    {
      "cell_type": "markdown",
      "source": [
        "# Version 2"
      ],
      "metadata": {
        "id": "_Kazv5RBUP-m"
      }
    },
    {
      "cell_type": "markdown",
      "source": [
        "Callbacks: Two additional callbacks have been added: ReduceLROnPlateau and ModelCheckpoint.\n",
        "\n",
        "ReduceLROnPlateau: This callback reduces the learning rate when the validation loss plateaus, which helps the model to converge better. It has been added to improve the model's performance.\n",
        "ModelCheckpoint: This callback saves the best model based on the validation loss. It allows us to restore the best model after training and evaluate its performance.\n",
        "Model Architecture Modification: The model architecture has been modified by adding an additional dense layer with 512 units and a sigmoid activation function. This modification introduces more complexity and capacity to the model, potentially improving its performance on the dataset. The final output layer remains unchanged with the softmax activation function.\n",
        "\n",
        "Model Compilation: The modified model is compiled with the same optimizer (adam) but with a different loss function (categorical_crossentropy). Changing the loss function might affect how the model learns and optimizes during training.\n",
        "\n",
        "Training: The modified model is trained using the same training and validation datasets, as well as the same number of epochs as the previous version.\n",
        "\n",
        "Evaluation: The modified model is evaluated on the validation dataset, and the validation loss and accuracy are calculated.\n",
        "\n",
        "By adding more complexity to the model architecture, changing the loss function, and introducing additional callbacks for learning rate adjustment and model checkpointing, the goal is to improve the model's performance on the PlantVillage dataset."
      ],
      "metadata": {
        "id": "UBwTcMv7aCln"
      }
    },
    {
      "cell_type": "code",
      "source": [
        "from tensorflow.keras import optimizers\n",
        "from tensorflow.keras.callbacks import ReduceLROnPlateau\n",
        "from tensorflow.keras.layers import Dropout\n",
        "\n",
        "# Create a ModelCheckpoint callback\n",
        "checkpoint_callback = ModelCheckpoint(\n",
        "    'best_model_InceptionV3_v2.h5',\n",
        "    monitor='val_loss',\n",
        "    save_best_only=True,\n",
        "    save_weights_only=False,\n",
        "    mode='min',\n",
        "    verbose=1\n",
        ")\n"
      ],
      "metadata": {
        "id": "eaHnTHGMIDUC"
      },
      "execution_count": null,
      "outputs": []
    },
    {
      "cell_type": "code",
      "source": [
        "# Create a ReduceLROnPlateau callback\n",
        "reduce_lr_callback = ReduceLROnPlateau(\n",
        "    monitor='val_loss',\n",
        "    factor=0.1,\n",
        "    patience=3,\n",
        "    min_lr=0.00001,\n",
        "    verbose=1\n",
        ")\n",
        "\n",
        "# Load the best model from the previous version\n",
        "model = tf.keras.models.load_model('best_model_InceptionV3.h5')\n",
        "\n",
        "# Add modifications to the model architecture or hyperparameters\n",
        "# Example modification: Change activation function and loss function\n",
        "x = model.layers[-2].output\n",
        "x = Dense(512, activation='sigmoid')(x)\n",
        "predictions = Dense(num_classes, activation='softmax')(x)\n",
        "\n",
        "# Create the modified transfer learning model\n",
        "model_modified = Model(inputs=model.input, outputs=predictions)\n",
        "\n",
        "# Compile the modified model with different activation and loss functions\n",
        "model_modified.compile(optimizer='adam', loss='categorical_crossentropy', metrics=['accuracy'])"
      ],
      "metadata": {
        "id": "TQvNo1ccT66B"
      },
      "execution_count": null,
      "outputs": []
    },
    {
      "cell_type": "code",
      "source": [
        "# Train the modified model\n",
        "history_modified = model_modified.fit(train_ds, validation_data=val_ds, epochs=num_epochs, callbacks=[checkpoint_callback, reduce_lr_callback])"
      ],
      "metadata": {
        "colab": {
          "base_uri": "https://localhost:8080/"
        },
        "id": "H5oRtK1lUCvW",
        "outputId": "efcbf38d-dfff-4862-cd1a-8d273a4634f8"
      },
      "execution_count": null,
      "outputs": [
        {
          "output_type": "stream",
          "name": "stdout",
          "text": [
            "Epoch 1/20\n",
            "1358/1358 [==============================] - ETA: 0s - loss: 0.2855 - accuracy: 0.9253\n",
            "Epoch 1: val_loss improved from inf to 0.24757, saving model to best_model_InceptionV3_v2.h5\n",
            "1358/1358 [==============================] - 34s 22ms/step - loss: 0.2855 - accuracy: 0.9253 - val_loss: 0.2476 - val_accuracy: 0.9200 - lr: 0.0010\n",
            "Epoch 2/20\n",
            "1358/1358 [==============================] - ETA: 0s - loss: 0.1066 - accuracy: 0.9667\n",
            "Epoch 2: val_loss did not improve from 0.24757\n",
            "1358/1358 [==============================] - 28s 20ms/step - loss: 0.1066 - accuracy: 0.9667 - val_loss: 0.2864 - val_accuracy: 0.9154 - lr: 0.0010\n",
            "Epoch 3/20\n",
            "1356/1358 [============================>.] - ETA: 0s - loss: 0.0870 - accuracy: 0.9725\n",
            "Epoch 3: val_loss did not improve from 0.24757\n",
            "1358/1358 [==============================] - 28s 20ms/step - loss: 0.0869 - accuracy: 0.9725 - val_loss: 0.3151 - val_accuracy: 0.9090 - lr: 0.0010\n",
            "Epoch 4/20\n",
            "1356/1358 [============================>.] - ETA: 0s - loss: 0.0789 - accuracy: 0.9737\n",
            "Epoch 4: val_loss did not improve from 0.24757\n",
            "\n",
            "Epoch 4: ReduceLROnPlateau reducing learning rate to 0.00010000000474974513.\n",
            "1358/1358 [==============================] - 28s 20ms/step - loss: 0.0789 - accuracy: 0.9737 - val_loss: 0.2548 - val_accuracy: 0.9274 - lr: 0.0010\n",
            "Epoch 5/20\n",
            "1356/1358 [============================>.] - ETA: 0s - loss: 0.0342 - accuracy: 0.9889\n",
            "Epoch 5: val_loss improved from 0.24757 to 0.16988, saving model to best_model_InceptionV3_v2.h5\n",
            "1358/1358 [==============================] - 28s 21ms/step - loss: 0.0341 - accuracy: 0.9890 - val_loss: 0.1699 - val_accuracy: 0.9489 - lr: 1.0000e-04\n",
            "Epoch 6/20\n",
            "1355/1358 [============================>.] - ETA: 0s - loss: 0.0233 - accuracy: 0.9934\n",
            "Epoch 6: val_loss improved from 0.16988 to 0.16968, saving model to best_model_InceptionV3_v2.h5\n",
            "1358/1358 [==============================] - 28s 21ms/step - loss: 0.0232 - accuracy: 0.9934 - val_loss: 0.1697 - val_accuracy: 0.9487 - lr: 1.0000e-04\n",
            "Epoch 7/20\n",
            "1356/1358 [============================>.] - ETA: 0s - loss: 0.0184 - accuracy: 0.9958\n",
            "Epoch 7: val_loss did not improve from 0.16968\n",
            "1358/1358 [==============================] - 27s 20ms/step - loss: 0.0184 - accuracy: 0.9958 - val_loss: 0.1698 - val_accuracy: 0.9495 - lr: 1.0000e-04\n",
            "Epoch 8/20\n",
            "1355/1358 [============================>.] - ETA: 0s - loss: 0.0148 - accuracy: 0.9972\n",
            "Epoch 8: val_loss did not improve from 0.16968\n",
            "1358/1358 [==============================] - 28s 20ms/step - loss: 0.0148 - accuracy: 0.9972 - val_loss: 0.1710 - val_accuracy: 0.9496 - lr: 1.0000e-04\n",
            "Epoch 9/20\n",
            "1356/1358 [============================>.] - ETA: 0s - loss: 0.0120 - accuracy: 0.9982\n",
            "Epoch 9: val_loss did not improve from 0.16968\n",
            "\n",
            "Epoch 9: ReduceLROnPlateau reducing learning rate to 1.0000000474974514e-05.\n",
            "1358/1358 [==============================] - 28s 20ms/step - loss: 0.0120 - accuracy: 0.9983 - val_loss: 0.1721 - val_accuracy: 0.9508 - lr: 1.0000e-04\n",
            "Epoch 10/20\n",
            "1356/1358 [============================>.] - ETA: 0s - loss: 0.0092 - accuracy: 0.9987\n",
            "Epoch 10: val_loss improved from 0.16968 to 0.16645, saving model to best_model_InceptionV3_v2.h5\n",
            "1358/1358 [==============================] - 28s 21ms/step - loss: 0.0092 - accuracy: 0.9987 - val_loss: 0.1664 - val_accuracy: 0.9519 - lr: 1.0000e-05\n",
            "Epoch 11/20\n",
            "1358/1358 [==============================] - ETA: 0s - loss: 0.0083 - accuracy: 0.9991\n",
            "Epoch 11: val_loss did not improve from 0.16645\n",
            "1358/1358 [==============================] - 28s 20ms/step - loss: 0.0083 - accuracy: 0.9991 - val_loss: 0.1667 - val_accuracy: 0.9523 - lr: 1.0000e-05\n",
            "Epoch 12/20\n",
            "1355/1358 [============================>.] - ETA: 0s - loss: 0.0080 - accuracy: 0.9992\n",
            "Epoch 12: val_loss did not improve from 0.16645\n",
            "1358/1358 [==============================] - 28s 20ms/step - loss: 0.0080 - accuracy: 0.9992 - val_loss: 0.1671 - val_accuracy: 0.9524 - lr: 1.0000e-05\n",
            "Epoch 13/20\n",
            "1356/1358 [============================>.] - ETA: 0s - loss: 0.0077 - accuracy: 0.9993\n",
            "Epoch 13: val_loss did not improve from 0.16645\n",
            "\n",
            "Epoch 13: ReduceLROnPlateau reducing learning rate to 1e-05.\n",
            "1358/1358 [==============================] - 28s 20ms/step - loss: 0.0077 - accuracy: 0.9993 - val_loss: 0.1674 - val_accuracy: 0.9529 - lr: 1.0000e-05\n",
            "Epoch 14/20\n",
            "1357/1358 [============================>.] - ETA: 0s - loss: 0.0074 - accuracy: 0.9994\n",
            "Epoch 14: val_loss did not improve from 0.16645\n",
            "1358/1358 [==============================] - 28s 20ms/step - loss: 0.0074 - accuracy: 0.9994 - val_loss: 0.1677 - val_accuracy: 0.9530 - lr: 1.0000e-05\n",
            "Epoch 15/20\n",
            "1358/1358 [==============================] - ETA: 0s - loss: 0.0072 - accuracy: 0.9994\n",
            "Epoch 15: val_loss did not improve from 0.16645\n",
            "1358/1358 [==============================] - 28s 20ms/step - loss: 0.0072 - accuracy: 0.9994 - val_loss: 0.1680 - val_accuracy: 0.9529 - lr: 1.0000e-05\n",
            "Epoch 16/20\n",
            "1358/1358 [==============================] - ETA: 0s - loss: 0.0069 - accuracy: 0.9995\n",
            "Epoch 16: val_loss did not improve from 0.16645\n",
            "1358/1358 [==============================] - 27s 20ms/step - loss: 0.0069 - accuracy: 0.9995 - val_loss: 0.1683 - val_accuracy: 0.9530 - lr: 1.0000e-05\n",
            "Epoch 17/20\n",
            "1355/1358 [============================>.] - ETA: 0s - loss: 0.0067 - accuracy: 0.9995\n",
            "Epoch 17: val_loss did not improve from 0.16645\n",
            "1358/1358 [==============================] - 28s 20ms/step - loss: 0.0067 - accuracy: 0.9995 - val_loss: 0.1686 - val_accuracy: 0.9532 - lr: 1.0000e-05\n",
            "Epoch 18/20\n",
            "1358/1358 [==============================] - ETA: 0s - loss: 0.0065 - accuracy: 0.9996\n",
            "Epoch 18: val_loss did not improve from 0.16645\n",
            "1358/1358 [==============================] - 27s 20ms/step - loss: 0.0065 - accuracy: 0.9996 - val_loss: 0.1689 - val_accuracy: 0.9531 - lr: 1.0000e-05\n",
            "Epoch 19/20\n",
            "1355/1358 [============================>.] - ETA: 0s - loss: 0.0063 - accuracy: 0.9996\n",
            "Epoch 19: val_loss did not improve from 0.16645\n",
            "1358/1358 [==============================] - 28s 20ms/step - loss: 0.0063 - accuracy: 0.9996 - val_loss: 0.1692 - val_accuracy: 0.9531 - lr: 1.0000e-05\n",
            "Epoch 20/20\n",
            "1357/1358 [============================>.] - ETA: 0s - loss: 0.0061 - accuracy: 0.9996\n",
            "Epoch 20: val_loss did not improve from 0.16645\n",
            "1358/1358 [==============================] - 27s 20ms/step - loss: 0.0061 - accuracy: 0.9996 - val_loss: 0.1695 - val_accuracy: 0.9530 - lr: 1.0000e-05\n"
          ]
        }
      ]
    },
    {
      "cell_type": "code",
      "source": [
        "# Evaluate the modified model\n",
        "loss_modified, accuracy_modified = model_modified.evaluate(val_ds)\n",
        "print(f\"Validation Loss (Modified): {loss_modified}\")\n",
        "print(f\"Validation Accuracy (Modified): {accuracy_modified}\")\n",
        "\n",
        "# Save the best model\n",
        "model_modified.save('best_model_InceptionV3_v2.h5')"
      ],
      "metadata": {
        "colab": {
          "base_uri": "https://localhost:8080/"
        },
        "id": "QtbCCp7CUGOm",
        "outputId": "e0f3f781-b482-46b0-83f8-9370e6067c40"
      },
      "execution_count": null,
      "outputs": [
        {
          "output_type": "stream",
          "name": "stdout",
          "text": [
            "340/340 [==============================] - 5s 15ms/step - loss: 0.1695 - accuracy: 0.9530\n",
            "Validation Loss (Modified): 0.1694992184638977\n",
            "Validation Accuracy (Modified): 0.9530429840087891\n"
          ]
        }
      ]
    },
    {
      "cell_type": "markdown",
      "source": [
        "The output from the modified version shows the training progress over the epochs, including the loss, accuracy, and learning rate. The model achieves a validation accuracy of approximately 95.30% and a validation loss of 0.1695.\n",
        "\n",
        "Comparing the modified output with the previous version, it can be observed that the modified version achieves a slightly higher validation accuracy and lower validation loss. This indicates an improvement in the model's performance"
      ],
      "metadata": {
        "id": "zsuxFDwpacTk"
      }
    },
    {
      "cell_type": "markdown",
      "source": [
        "# Version 3"
      ],
      "metadata": {
        "id": "Ct5qPLjGcsOn"
      }
    },
    {
      "cell_type": "code",
      "source": [
        "from tensorflow.keras import optimizers\n",
        "from tensorflow.keras.callbacks import ReduceLROnPlateau, EarlyStopping\n",
        "from tensorflow.keras.layers import Dropout, ReLU\n",
        "\n",
        "# Create a ModelCheckpoint callback\n",
        "checkpoint_callback = ModelCheckpoint(\n",
        "    'best_model_InceptionV3_v3.h5',\n",
        "    monitor='val_loss',\n",
        "    save_best_only=True,\n",
        "    save_weights_only=False,\n",
        "    mode='min',\n",
        "    verbose=1\n",
        ")\n",
        "\n",
        "# Create a ReduceLROnPlateau callback\n",
        "reduce_lr_callback = ReduceLROnPlateau(\n",
        "    monitor='val_loss',\n",
        "    factor=0.1,\n",
        "    patience=3,\n",
        "    min_lr=0.00001,\n",
        "    verbose=1\n",
        ")\n",
        "\n",
        "# Create an EarlyStopping callback\n",
        "early_stopping_callback = EarlyStopping(\n",
        "    monitor='val_loss',\n",
        "    patience=5,\n",
        "    restore_best_weights=True,\n",
        "    verbose=1\n",
        ")"
      ],
      "metadata": {
        "id": "6pg4hUUwXIxB"
      },
      "execution_count": null,
      "outputs": []
    },
    {
      "cell_type": "code",
      "source": [
        "# Load the best model from the previous version\n",
        "model = tf.keras.models.load_model('best_model_InceptionV3_v2.h5')\n",
        "\n",
        "# Add modifications to the model architecture or hyperparameters\n",
        "x = model.layers[-2].output\n",
        "x = Dense(512, activation=ReLU())(x)\n",
        "predictions = Dense(num_classes, activation='softmax')(x)\n",
        "\n",
        "# Create the modified transfer learning model\n",
        "model_modified = Model(inputs=model.input, outputs=predictions)\n",
        "\n",
        "# Compile the modified model with ReLU activation in the dense layer\n",
        "model_modified.compile(optimizer='adam', loss='categorical_crossentropy', metrics=['accuracy'])"
      ],
      "metadata": {
        "id": "NicO-rgXc9Db"
      },
      "execution_count": null,
      "outputs": []
    },
    {
      "cell_type": "code",
      "source": [
        "# Train the modified model with increased epochs and EarlyStopping\n",
        "history_modified_V3 = model_modified.fit(\n",
        "    train_ds, \n",
        "    validation_data=val_ds, \n",
        "    epochs=30, \n",
        "    callbacks=[checkpoint_callback, reduce_lr_callback, early_stopping_callback]\n",
        ")"
      ],
      "metadata": {
        "colab": {
          "base_uri": "https://localhost:8080/"
        },
        "id": "4XSW4BOgdBX3",
        "outputId": "c7f8a3cd-2610-4b45-95f7-b3e62f29dfd7"
      },
      "execution_count": null,
      "outputs": [
        {
          "output_type": "stream",
          "name": "stdout",
          "text": [
            "Epoch 1/30\n",
            "1358/1358 [==============================] - ETA: 0s - loss: 0.1561 - accuracy: 0.9530\n",
            "Epoch 1: val_loss improved from inf to 0.30290, saving model to best_model_InceptionV3_v3.h5\n",
            "1358/1358 [==============================] - 36s 23ms/step - loss: 0.1561 - accuracy: 0.9530 - val_loss: 0.3029 - val_accuracy: 0.9206 - lr: 0.0010\n",
            "Epoch 2/30\n",
            "1357/1358 [============================>.] - ETA: 0s - loss: 0.0924 - accuracy: 0.9677\n",
            "Epoch 2: val_loss did not improve from 0.30290\n",
            "1358/1358 [==============================] - 29s 21ms/step - loss: 0.0923 - accuracy: 0.9678 - val_loss: 0.4412 - val_accuracy: 0.8936 - lr: 0.0010\n",
            "Epoch 3/30\n",
            "1357/1358 [============================>.] - ETA: 0s - loss: 0.0805 - accuracy: 0.9720\n",
            "Epoch 3: val_loss improved from 0.30290 to 0.30273, saving model to best_model_InceptionV3_v3.h5\n",
            "1358/1358 [==============================] - 29s 21ms/step - loss: 0.0804 - accuracy: 0.9721 - val_loss: 0.3027 - val_accuracy: 0.9239 - lr: 0.0010\n",
            "Epoch 4/30\n",
            "1355/1358 [============================>.] - ETA: 0s - loss: 0.0790 - accuracy: 0.9735\n",
            "Epoch 4: val_loss improved from 0.30273 to 0.29896, saving model to best_model_InceptionV3_v3.h5\n",
            "1358/1358 [==============================] - 29s 21ms/step - loss: 0.0789 - accuracy: 0.9736 - val_loss: 0.2990 - val_accuracy: 0.9260 - lr: 0.0010\n",
            "Epoch 5/30\n",
            "1358/1358 [==============================] - ETA: 0s - loss: 0.0713 - accuracy: 0.9757\n",
            "Epoch 5: val_loss did not improve from 0.29896\n",
            "1358/1358 [==============================] - 28s 21ms/step - loss: 0.0713 - accuracy: 0.9757 - val_loss: 0.3902 - val_accuracy: 0.9102 - lr: 0.0010\n",
            "Epoch 6/30\n",
            "1355/1358 [============================>.] - ETA: 0s - loss: 0.0651 - accuracy: 0.9777\n",
            "Epoch 6: val_loss did not improve from 0.29896\n",
            "1358/1358 [==============================] - 28s 21ms/step - loss: 0.0650 - accuracy: 0.9777 - val_loss: 0.3430 - val_accuracy: 0.9206 - lr: 0.0010\n",
            "Epoch 7/30\n",
            "1358/1358 [==============================] - ETA: 0s - loss: 0.0626 - accuracy: 0.9796\n",
            "Epoch 7: val_loss did not improve from 0.29896\n",
            "\n",
            "Epoch 7: ReduceLROnPlateau reducing learning rate to 0.00010000000474974513.\n",
            "1358/1358 [==============================] - 29s 21ms/step - loss: 0.0626 - accuracy: 0.9796 - val_loss: 0.3117 - val_accuracy: 0.9323 - lr: 0.0010\n",
            "Epoch 8/30\n",
            "1355/1358 [============================>.] - ETA: 0s - loss: 0.0175 - accuracy: 0.9942\n",
            "Epoch 8: val_loss improved from 0.29896 to 0.21989, saving model to best_model_InceptionV3_v3.h5\n",
            "1358/1358 [==============================] - 29s 22ms/step - loss: 0.0174 - accuracy: 0.9942 - val_loss: 0.2199 - val_accuracy: 0.9508 - lr: 1.0000e-04\n",
            "Epoch 9/30\n",
            "1355/1358 [============================>.] - ETA: 0s - loss: 0.0061 - accuracy: 0.9982\n",
            "Epoch 9: val_loss did not improve from 0.21989\n",
            "1358/1358 [==============================] - 29s 21ms/step - loss: 0.0061 - accuracy: 0.9982 - val_loss: 0.2271 - val_accuracy: 0.9518 - lr: 1.0000e-04\n",
            "Epoch 10/30\n",
            "1358/1358 [==============================] - ETA: 0s - loss: 0.0028 - accuracy: 0.9996\n",
            "Epoch 10: val_loss did not improve from 0.21989\n",
            "1358/1358 [==============================] - 29s 21ms/step - loss: 0.0028 - accuracy: 0.9996 - val_loss: 0.2385 - val_accuracy: 0.9523 - lr: 1.0000e-04\n",
            "Epoch 11/30\n",
            "1357/1358 [============================>.] - ETA: 0s - loss: 0.0013 - accuracy: 1.0000\n",
            "Epoch 11: val_loss did not improve from 0.21989\n",
            "\n",
            "Epoch 11: ReduceLROnPlateau reducing learning rate to 1.0000000474974514e-05.\n",
            "1358/1358 [==============================] - 29s 21ms/step - loss: 0.0013 - accuracy: 1.0000 - val_loss: 0.2552 - val_accuracy: 0.9528 - lr: 1.0000e-04\n",
            "Epoch 12/30\n",
            "1357/1358 [============================>.] - ETA: 0s - loss: 7.9030e-04 - accuracy: 1.0000\n",
            "Epoch 12: val_loss did not improve from 0.21989\n",
            "1358/1358 [==============================] - 29s 21ms/step - loss: 7.8998e-04 - accuracy: 1.0000 - val_loss: 0.2512 - val_accuracy: 0.9533 - lr: 1.0000e-05\n",
            "Epoch 13/30\n",
            "1358/1358 [==============================] - ETA: 0s - loss: 5.9836e-04 - accuracy: 1.0000\n",
            "Epoch 13: val_loss did not improve from 0.21989\n",
            "Restoring model weights from the end of the best epoch: 8.\n",
            "1358/1358 [==============================] - 29s 21ms/step - loss: 5.9836e-04 - accuracy: 1.0000 - val_loss: 0.2544 - val_accuracy: 0.9531 - lr: 1.0000e-05\n",
            "Epoch 13: early stopping\n"
          ]
        }
      ]
    },
    {
      "cell_type": "code",
      "source": [
        "# Evaluate the modified model\n",
        "loss_modified, accuracy_modified = model_modified.evaluate(val_ds)\n",
        "print(f\"Validation Loss (Modified): {loss_modified}\")\n",
        "print(f\"Validation Accuracy (Modified): {accuracy_modified}\")"
      ],
      "metadata": {
        "colab": {
          "base_uri": "https://localhost:8080/"
        },
        "id": "bOf9Rr00dEWy",
        "outputId": "314175eb-c92e-41ab-a3c0-2f1bfe28e4bd"
      },
      "execution_count": null,
      "outputs": [
        {
          "output_type": "stream",
          "name": "stdout",
          "text": [
            "340/340 [==============================] - 6s 16ms/step - loss: 0.2199 - accuracy: 0.9508\n",
            "Validation Loss (Modified): 0.21989499032497406\n",
            "Validation Accuracy (Modified): 0.950833261013031\n"
          ]
        }
      ]
    },
    {
      "cell_type": "code",
      "source": [
        "# Save the best model\n",
        "model_modified.save('best_model_InceptionV3_v3.h5')"
      ],
      "metadata": {
        "id": "duR-OIBXdHrx"
      },
      "execution_count": null,
      "outputs": []
    },
    {
      "cell_type": "markdown",
      "source": [
        "# Version 2 (Best Model, with more epochs)"
      ],
      "metadata": {
        "id": "Zj6pnwWVmqza"
      }
    },
    {
      "cell_type": "code",
      "source": [
        "from tensorflow.keras import optimizers\n",
        "from tensorflow.keras.callbacks import ReduceLROnPlateau\n",
        "from tensorflow.keras.layers import Dropout\n",
        "\n",
        "# Create a ModelCheckpoint callback\n",
        "checkpoint_callback = ModelCheckpoint(\n",
        "    'best_model_InceptionV3_v2_moreEpoch.h5',\n",
        "    monitor='val_loss',\n",
        "    save_best_only=True,\n",
        "    save_weights_only=False,\n",
        "    mode='min',\n",
        "    verbose=1\n",
        ")\n"
      ],
      "metadata": {
        "id": "mPdjxFMimyvt"
      },
      "execution_count": null,
      "outputs": []
    },
    {
      "cell_type": "code",
      "source": [
        "# Create a ReduceLROnPlateau callback\n",
        "reduce_lr_callback = ReduceLROnPlateau(\n",
        "    monitor='val_loss',\n",
        "    factor=0.1,\n",
        "    patience=3,\n",
        "    min_lr=0.00001,\n",
        "    verbose=1\n",
        ")\n",
        "\n",
        "# Load the best model from the previous version\n",
        "model = tf.keras.models.load_model('best_model_InceptionV3_v2.h5')\n",
        "\n",
        "# Add modifications to the model architecture or hyperparameters\n",
        "# Example modification: Change activation function and loss function\n",
        "x = model.layers[-2].output\n",
        "x = Dense(512, activation='sigmoid')(x)\n",
        "predictions = Dense(num_classes, activation='softmax')(x)\n",
        "\n",
        "# Create the modified transfer learning model\n",
        "model_modified = Model(inputs=model.input, outputs=predictions)\n",
        "\n",
        "# Compile the modified model with different activation and loss functions\n",
        "model_modified.compile(optimizer='adam', loss='categorical_crossentropy', metrics=['accuracy'])"
      ],
      "metadata": {
        "id": "76sc0zmMnH45"
      },
      "execution_count": null,
      "outputs": []
    },
    {
      "cell_type": "code",
      "source": [
        "num_epochs = 30\n",
        "# Train the modified model\n",
        "history_modified = model_modified.fit(train_ds, validation_data=val_ds, epochs=num_epochs, callbacks=[checkpoint_callback, reduce_lr_callback])"
      ],
      "metadata": {
        "colab": {
          "base_uri": "https://localhost:8080/"
        },
        "id": "UF_jX8aynM2W",
        "outputId": "69a77250-b067-4dd4-f864-01fe79a79500"
      },
      "execution_count": null,
      "outputs": [
        {
          "output_type": "stream",
          "name": "stdout",
          "text": [
            "Epoch 1/30\n",
            "1358/1358 [==============================] - ETA: 0s - loss: 0.2070 - accuracy: 0.9559\n",
            "Epoch 1: val_loss improved from inf to 0.27985, saving model to best_model_InceptionV3_v2_moreEpoch.h5\n",
            "1358/1358 [==============================] - 35s 22ms/step - loss: 0.2070 - accuracy: 0.9559 - val_loss: 0.2798 - val_accuracy: 0.9198 - lr: 0.0010\n",
            "Epoch 2/30\n",
            "1358/1358 [==============================] - ETA: 0s - loss: 0.0733 - accuracy: 0.9760\n",
            "Epoch 2: val_loss did not improve from 0.27985\n",
            "1358/1358 [==============================] - 27s 20ms/step - loss: 0.0733 - accuracy: 0.9760 - val_loss: 0.3027 - val_accuracy: 0.9231 - lr: 0.0010\n",
            "Epoch 3/30\n",
            "1355/1358 [============================>.] - ETA: 0s - loss: 0.0666 - accuracy: 0.9774\n",
            "Epoch 3: val_loss did not improve from 0.27985\n",
            "1358/1358 [==============================] - 27s 20ms/step - loss: 0.0666 - accuracy: 0.9774 - val_loss: 0.3589 - val_accuracy: 0.9140 - lr: 0.0010\n",
            "Epoch 4/30\n",
            "1358/1358 [==============================] - ETA: 0s - loss: 0.0638 - accuracy: 0.9785\n",
            "Epoch 4: val_loss did not improve from 0.27985\n",
            "\n",
            "Epoch 4: ReduceLROnPlateau reducing learning rate to 0.00010000000474974513.\n",
            "1358/1358 [==============================] - 27s 20ms/step - loss: 0.0638 - accuracy: 0.9785 - val_loss: 0.3526 - val_accuracy: 0.9182 - lr: 0.0010\n",
            "Epoch 5/30\n",
            "1355/1358 [============================>.] - ETA: 0s - loss: 0.0204 - accuracy: 0.9932\n",
            "Epoch 5: val_loss improved from 0.27985 to 0.20304, saving model to best_model_InceptionV3_v2_moreEpoch.h5\n",
            "1358/1358 [==============================] - 28s 20ms/step - loss: 0.0204 - accuracy: 0.9932 - val_loss: 0.2030 - val_accuracy: 0.9479 - lr: 1.0000e-04\n",
            "Epoch 6/30\n",
            "1355/1358 [============================>.] - ETA: 0s - loss: 0.0093 - accuracy: 0.9977\n",
            "Epoch 6: val_loss did not improve from 0.20304\n",
            "1358/1358 [==============================] - 27s 20ms/step - loss: 0.0093 - accuracy: 0.9977 - val_loss: 0.2062 - val_accuracy: 0.9496 - lr: 1.0000e-04\n",
            "Epoch 7/30\n",
            "1358/1358 [==============================] - ETA: 0s - loss: 0.0058 - accuracy: 0.9991\n",
            "Epoch 7: val_loss did not improve from 0.20304\n",
            "1358/1358 [==============================] - 27s 20ms/step - loss: 0.0058 - accuracy: 0.9991 - val_loss: 0.2123 - val_accuracy: 0.9496 - lr: 1.0000e-04\n",
            "Epoch 8/30\n",
            "1358/1358 [==============================] - ETA: 0s - loss: 0.0036 - accuracy: 0.9997\n",
            "Epoch 8: val_loss did not improve from 0.20304\n",
            "\n",
            "Epoch 8: ReduceLROnPlateau reducing learning rate to 1.0000000474974514e-05.\n",
            "1358/1358 [==============================] - 27s 20ms/step - loss: 0.0036 - accuracy: 0.9997 - val_loss: 0.2166 - val_accuracy: 0.9498 - lr: 1.0000e-04\n",
            "Epoch 9/30\n",
            "1356/1358 [============================>.] - ETA: 0s - loss: 0.0023 - accuracy: 0.9998\n",
            "Epoch 9: val_loss did not improve from 0.20304\n",
            "1358/1358 [==============================] - 27s 20ms/step - loss: 0.0023 - accuracy: 0.9998 - val_loss: 0.2111 - val_accuracy: 0.9522 - lr: 1.0000e-05\n",
            "Epoch 10/30\n",
            "1356/1358 [============================>.] - ETA: 0s - loss: 0.0020 - accuracy: 1.0000\n",
            "Epoch 10: val_loss did not improve from 0.20304\n",
            "1358/1358 [==============================] - 27s 20ms/step - loss: 0.0020 - accuracy: 1.0000 - val_loss: 0.2122 - val_accuracy: 0.9523 - lr: 1.0000e-05\n",
            "Epoch 11/30\n",
            "1356/1358 [============================>.] - ETA: 0s - loss: 0.0018 - accuracy: 1.0000\n",
            "Epoch 11: val_loss did not improve from 0.20304\n",
            "\n",
            "Epoch 11: ReduceLROnPlateau reducing learning rate to 1e-05.\n",
            "1358/1358 [==============================] - 27s 20ms/step - loss: 0.0018 - accuracy: 1.0000 - val_loss: 0.2135 - val_accuracy: 0.9521 - lr: 1.0000e-05\n",
            "Epoch 12/30\n",
            "1355/1358 [============================>.] - ETA: 0s - loss: 0.0017 - accuracy: 1.0000\n",
            "Epoch 12: val_loss did not improve from 0.20304\n",
            "1358/1358 [==============================] - 27s 20ms/step - loss: 0.0017 - accuracy: 1.0000 - val_loss: 0.2148 - val_accuracy: 0.9521 - lr: 1.0000e-05\n",
            "Epoch 13/30\n",
            "1355/1358 [============================>.] - ETA: 0s - loss: 0.0015 - accuracy: 1.0000\n",
            "Epoch 13: val_loss did not improve from 0.20304\n",
            "1358/1358 [==============================] - 27s 20ms/step - loss: 0.0015 - accuracy: 1.0000 - val_loss: 0.2160 - val_accuracy: 0.9520 - lr: 1.0000e-05\n",
            "Epoch 14/30\n",
            "1358/1358 [==============================] - ETA: 0s - loss: 0.0014 - accuracy: 1.0000\n",
            "Epoch 14: val_loss did not improve from 0.20304\n",
            "1358/1358 [==============================] - 27s 20ms/step - loss: 0.0014 - accuracy: 1.0000 - val_loss: 0.2171 - val_accuracy: 0.9524 - lr: 1.0000e-05\n",
            "Epoch 15/30\n",
            "1356/1358 [============================>.] - ETA: 0s - loss: 0.0013 - accuracy: 1.0000\n",
            "Epoch 15: val_loss did not improve from 0.20304\n",
            "1358/1358 [==============================] - 27s 20ms/step - loss: 0.0013 - accuracy: 1.0000 - val_loss: 0.2182 - val_accuracy: 0.9523 - lr: 1.0000e-05\n",
            "Epoch 16/30\n",
            "1357/1358 [============================>.] - ETA: 0s - loss: 0.0012 - accuracy: 1.0000\n",
            "Epoch 16: val_loss did not improve from 0.20304\n",
            "1358/1358 [==============================] - 27s 20ms/step - loss: 0.0012 - accuracy: 1.0000 - val_loss: 0.2193 - val_accuracy: 0.9522 - lr: 1.0000e-05\n",
            "Epoch 17/30\n",
            "1358/1358 [==============================] - ETA: 0s - loss: 0.0011 - accuracy: 1.0000\n",
            "Epoch 17: val_loss did not improve from 0.20304\n",
            "1358/1358 [==============================] - 28s 20ms/step - loss: 0.0011 - accuracy: 1.0000 - val_loss: 0.2205 - val_accuracy: 0.9524 - lr: 1.0000e-05\n",
            "Epoch 18/30\n",
            "1355/1358 [============================>.] - ETA: 0s - loss: 0.0010 - accuracy: 1.0000\n",
            "Epoch 18: val_loss did not improve from 0.20304\n",
            "1358/1358 [==============================] - 27s 20ms/step - loss: 0.0010 - accuracy: 1.0000 - val_loss: 0.2216 - val_accuracy: 0.9525 - lr: 1.0000e-05\n",
            "Epoch 19/30\n",
            "1355/1358 [============================>.] - ETA: 0s - loss: 9.4518e-04 - accuracy: 1.0000\n",
            "Epoch 19: val_loss did not improve from 0.20304\n",
            "1358/1358 [==============================] - 28s 20ms/step - loss: 9.4356e-04 - accuracy: 1.0000 - val_loss: 0.2228 - val_accuracy: 0.9522 - lr: 1.0000e-05\n",
            "Epoch 20/30\n",
            "1355/1358 [============================>.] - ETA: 0s - loss: 8.7117e-04 - accuracy: 1.0000\n",
            "Epoch 20: val_loss did not improve from 0.20304\n",
            "1358/1358 [==============================] - 27s 20ms/step - loss: 8.6968e-04 - accuracy: 1.0000 - val_loss: 0.2239 - val_accuracy: 0.9523 - lr: 1.0000e-05\n",
            "Epoch 21/30\n",
            "1355/1358 [============================>.] - ETA: 0s - loss: 8.0353e-04 - accuracy: 1.0000\n",
            "Epoch 21: val_loss did not improve from 0.20304\n",
            "1358/1358 [==============================] - 27s 20ms/step - loss: 8.0216e-04 - accuracy: 1.0000 - val_loss: 0.2250 - val_accuracy: 0.9522 - lr: 1.0000e-05\n",
            "Epoch 22/30\n",
            "1356/1358 [============================>.] - ETA: 0s - loss: 7.4131e-04 - accuracy: 1.0000\n",
            "Epoch 22: val_loss did not improve from 0.20304\n",
            "1358/1358 [==============================] - 27s 20ms/step - loss: 7.4052e-04 - accuracy: 1.0000 - val_loss: 0.2262 - val_accuracy: 0.9524 - lr: 1.0000e-05\n",
            "Epoch 23/30\n",
            "1356/1358 [============================>.] - ETA: 0s - loss: 6.8473e-04 - accuracy: 1.0000\n",
            "Epoch 23: val_loss did not improve from 0.20304\n",
            "1358/1358 [==============================] - 27s 20ms/step - loss: 6.8400e-04 - accuracy: 1.0000 - val_loss: 0.2275 - val_accuracy: 0.9525 - lr: 1.0000e-05\n",
            "Epoch 24/30\n",
            "1356/1358 [============================>.] - ETA: 0s - loss: 6.3336e-04 - accuracy: 1.0000\n",
            "Epoch 24: val_loss did not improve from 0.20304\n",
            "1358/1358 [==============================] - 27s 20ms/step - loss: 6.3269e-04 - accuracy: 1.0000 - val_loss: 0.2287 - val_accuracy: 0.9523 - lr: 1.0000e-05\n",
            "Epoch 25/30\n",
            "1355/1358 [============================>.] - ETA: 0s - loss: 5.8626e-04 - accuracy: 1.0000\n",
            "Epoch 25: val_loss did not improve from 0.20304\n",
            "1358/1358 [==============================] - 27s 20ms/step - loss: 5.8528e-04 - accuracy: 1.0000 - val_loss: 0.2300 - val_accuracy: 0.9527 - lr: 1.0000e-05\n",
            "Epoch 26/30\n",
            "1356/1358 [============================>.] - ETA: 0s - loss: 5.4273e-04 - accuracy: 1.0000\n",
            "Epoch 26: val_loss did not improve from 0.20304\n",
            "1358/1358 [==============================] - 27s 20ms/step - loss: 5.4216e-04 - accuracy: 1.0000 - val_loss: 0.2312 - val_accuracy: 0.9528 - lr: 1.0000e-05\n",
            "Epoch 27/30\n",
            "1357/1358 [============================>.] - ETA: 0s - loss: 5.0252e-04 - accuracy: 1.0000\n",
            "Epoch 27: val_loss did not improve from 0.20304\n",
            "1358/1358 [==============================] - 27s 20ms/step - loss: 5.0232e-04 - accuracy: 1.0000 - val_loss: 0.2325 - val_accuracy: 0.9526 - lr: 1.0000e-05\n",
            "Epoch 28/30\n",
            "1358/1358 [==============================] - ETA: 0s - loss: 4.6572e-04 - accuracy: 1.0000\n",
            "Epoch 28: val_loss did not improve from 0.20304\n",
            "1358/1358 [==============================] - 27s 20ms/step - loss: 4.6572e-04 - accuracy: 1.0000 - val_loss: 0.2338 - val_accuracy: 0.9528 - lr: 1.0000e-05\n",
            "Epoch 29/30\n",
            "1355/1358 [============================>.] - ETA: 0s - loss: 4.3243e-04 - accuracy: 1.0000\n",
            "Epoch 29: val_loss did not improve from 0.20304\n",
            "1358/1358 [==============================] - 27s 20ms/step - loss: 4.3172e-04 - accuracy: 1.0000 - val_loss: 0.2351 - val_accuracy: 0.9527 - lr: 1.0000e-05\n",
            "Epoch 30/30\n",
            "1357/1358 [============================>.] - ETA: 0s - loss: 4.0056e-04 - accuracy: 1.0000\n",
            "Epoch 30: val_loss did not improve from 0.20304\n",
            "1358/1358 [==============================] - 27s 20ms/step - loss: 4.0041e-04 - accuracy: 1.0000 - val_loss: 0.2364 - val_accuracy: 0.9529 - lr: 1.0000e-05\n"
          ]
        }
      ]
    },
    {
      "cell_type": "code",
      "source": [
        "# Evaluate the modified model\n",
        "loss_modified, accuracy_modified = model_modified.evaluate(val_ds)\n",
        "print(f\"Validation Loss (Modified): {loss_modified}\")\n",
        "print(f\"Validation Accuracy (Modified): {accuracy_modified}\")\n",
        "\n",
        "# Save the best model\n",
        "model_modified.save('best_model_InceptionV3_v2_moreEpoch.h5')"
      ],
      "metadata": {
        "colab": {
          "base_uri": "https://localhost:8080/"
        },
        "id": "aI8ceYz6nTIl",
        "outputId": "ddcc3e72-5e13-4af0-8b4e-92a117920120"
      },
      "execution_count": null,
      "outputs": [
        {
          "output_type": "stream",
          "name": "stdout",
          "text": [
            "340/340 [==============================] - 6s 16ms/step - loss: 0.2364 - accuracy: 0.9529\n",
            "Validation Loss (Modified): 0.23644107580184937\n",
            "Validation Accuracy (Modified): 0.9528588652610779\n"
          ]
        }
      ]
    },
    {
      "cell_type": "markdown",
      "source": [
        "Graph For three Models"
      ],
      "metadata": {
        "id": "D-EuhHVxkDDz"
      }
    },
    {
      "cell_type": "code",
      "source": [
        "import matplotlib.pyplot as plt\n",
        "\n",
        "Model1 = {\n",
        "    \"loss\": [0.5682, 0.2639, 0.1999, 0.1641, 0.1364, 0.1185, 0.1114, 0.0958, 0.0857, 0.0768, 0.0761, 0.0628, 0.0694, 0.0548, 0.0537, 0.0499, 0.0451, 0.0519, 0.0473, 0.0424],\n",
        "    \"accuracy\": [0.8320, 0.9140, 0.9332, 0.9453, 0.9541, 0.9600, 0.9607, 0.9673, 0.9701, 0.9724, 0.9734, 0.9778, 0.9766, 0.9806, 0.9812, 0.9814, 0.9836, 0.9825, 0.9836, 0.9851]\n",
        "}\n",
        "Model2 = {\n",
        "    \"loss\": [0.2855, 0.1066, 0.0869, 0.0789, 0.0341, 0.0232, 0.0184, 0.0148, 0.012, 0.0092, 0.0083, 0.008, 0.0077, 0.0074, 0.0072, 0.0069, 0.0067, 0.0065, 0.0063, 0.0061],\n",
        "    \"accuracy\": [0.9253, 0.9667, 0.9725, 0.9737, 0.989, 0.9934, 0.9958, 0.9972, 0.9983, 0.9987, 0.9991, 0.9992, 0.9993, 0.9994, 0.9994, 0.9995, 0.9995, 0.9996, 0.9996, 0.9996]\n",
        "}\n",
        "Model3 = {\n",
        "    \"loss\": [0.1561, 0.0923, 0.0804, 0.0789, 0.0713, 0.0650, 0.0626, 0.0174, 0.0061, 0.0028],\n",
        "    \"accuracy\": [0.9530, 0.9678, 0.9721, 0.9736, 0.9757, 0.9777, 0.9796, 0.9942, 0.9982, 0.9996]\n",
        "}\n",
        "\n",
        "epochs_range1 = range(1, len(Model1[\"loss\"]) + 1)\n",
        "epochs_range2 = range(1, len(Model2[\"loss\"]) + 1)\n",
        "epochs_range3 = range(1, len(Model3[\"loss\"]) + 1)\n",
        "\n",
        "plt.figure(figsize=(12, 8))\n",
        "\n",
        "plt.subplot(1, 2, 1)\n",
        "plt.plot(epochs_range1, Model1[\"loss\"], label='Model 1 Loss')\n",
        "plt.plot(epochs_range2, Model2[\"loss\"], label='Model 2 Loss')\n",
        "plt.plot(epochs_range3, Model3[\"loss\"], label='Model 3 Loss')\n",
        "plt.xlabel('Epochs')\n",
        "plt.ylabel('Loss')\n",
        "plt.legend(loc='upper right')\n",
        "plt.title('Comparison of Loss')\n",
        "\n",
        "plt.subplot(1, 2, 2)\n",
        "plt.plot(epochs_range1, Model1[\"accuracy\"], label='Model 1 Accuracy')\n",
        "plt.plot(epochs_range2, Model2[\"accuracy\"], label='Model 2 Accuracy')\n",
        "plt.plot(epochs_range3, Model3[\"accuracy\"], label='Model 3 Accuracy (Overfitted)')\n",
        "plt.xlabel('Epochs')\n",
        "plt.ylabel('Accuracy')\n",
        "plt.legend(loc='lower right')\n",
        "plt.title('Comparison of Accuracy')\n",
        "\n",
        "plt.show()\n",
        "\n"
      ],
      "metadata": {
        "colab": {
          "base_uri": "https://localhost:8080/",
          "height": 718
        },
        "id": "wnJ8k08wblOo",
        "outputId": "263091b3-315e-4553-c5f1-4f43c5ae03c1"
      },
      "execution_count": 1,
      "outputs": [
        {
          "output_type": "display_data",
          "data": {
            "text/plain": [
              "<Figure size 1200x800 with 2 Axes>"
            ],
            "image/png": "[encoded data removed]"
          },
          "metadata": {}
        }
      ]
    },
    {
      "cell_type": "code",
      "source": [],
      "metadata": {
        "id": "fP0xGl6ihghs"
      },
      "execution_count": null,
      "outputs": []
    }
  ]
}